{
 "cells": [
  {
   "cell_type": "code",
   "execution_count": 1,
   "metadata": {},
   "outputs": [],
   "source": [
    "# Lectura de datos desde un Arduino\n",
    "#\n",
    "# Basado en el ejemplo AnalogInOutSerial de Arduino (CC-BY-SA 3.0)\n",
    "# http://arduino.cc/en/Tutorial/AnalogInOutSerial\n",
    "#\n",
    "# 2014 Juan Luis Cano <juanlu001@gmail.com>\n",
    "\n",
    "import time"
   ]
  },
  {
   "cell_type": "code",
   "execution_count": 3,
   "metadata": {},
   "outputs": [],
   "source": [
    "try:\n",
    "    import serial\n",
    "    arduino = serial.Serial('/dev/ttyUSB0', baudrate=9600, timeout=1.0)\n",
    "\n",
    "    # Nota: provocamos un reseteo manual de la placa para leer desde\n",
    "    # el principio, ver http://stackoverflow.com/a/21082531/554319\n",
    "    arduino.setDTR(False)\n",
    "    time.sleep(1)\n",
    "    arduino.flushInput()\n",
    "    arduino.setDTR(True)\n",
    "\n",
    "except (ImportError, serial.SerialException):\n",
    "    # No hay módulo serial o placa Arduino disponibles\n",
    "    import io\n",
    "\n",
    "    class FakeArduino(io.RawIOBase):\n",
    "        \"\"\"Clase para representar un \"falso Arduino\"\n",
    "        \"\"\"\n",
    "        def readline(self):\n",
    "            time.sleep(0.1)\n",
    "            return b'sensor = 0\\toutput = 0\\r\\n'\n",
    "\n",
    "    arduino = FakeArduino()"
   ]
  },
  {
   "cell_type": "code",
   "execution_count": null,
   "metadata": {},
   "outputs": [],
   "source": []
  },
  {
   "cell_type": "code",
   "execution_count": 4,
   "metadata": {},
   "outputs": [
    {
     "name": "stdout",
     "output_type": "stream",
     "text": [
      ">>>>>>23.16 Grados Celsius\n",
      ">>\n",
      ">>>>>>23.24 Grados Celsius\n",
      ">>\n",
      ">>>>>>23.24 Grados Celsius\n",
      ">>\n",
      ">>>>>>23.24 Grados Celsius\n",
      ">>\n",
      ">>>>>>23.24 Grados Celsius\n",
      ">>\n",
      ">>>>>>23.24 Grados Celsius\n",
      ">>\n",
      ">>>>>>23.24 Grados Celsius\n",
      ">>\n",
      ">>>>>>23.24 Grados Celsius\n",
      ">>\n",
      ">>>>>>23.24 Grados Celsius\n",
      ">>\n",
      ">>>>>Exiting\n"
     ]
    }
   ],
   "source": [
    "# Con la sentencia with el arduino se cierra automáticamente, ver\n",
    "# http://docs.python.org/3/reference/datamodel.html#context-managers\n",
    "with arduino:\n",
    "    while True:\n",
    "        try:\n",
    "            # En Python 3 esta función devuelve un objeto bytes, ver\n",
    "            # http://docs.python.org/3/library/stdtypes.html#typebytes\n",
    "            line = arduino.readline()\n",
    "            # Con errors='replace' se evitan problemas con bytes erróneos, ver\n",
    "            # http://docs.python.org/3/library/stdtypes.html#bytes.decode\n",
    "            # Con end='' se evita un doble salto de línea\n",
    "            print(line.decode('ascii', errors='replace'), end='')\n",
    "\n",
    "        except KeyboardInterrupt:\n",
    "            print(\"Exiting\")\n",
    "            break"
   ]
  },
  {
   "cell_type": "code",
   "execution_count": null,
   "metadata": {},
   "outputs": [],
   "source": []
  }
 ],
 "metadata": {
  "kernelspec": {
   "display_name": "Python 3",
   "language": "python",
   "name": "python3"
  },
  "language_info": {
   "codemirror_mode": {
    "name": "ipython",
    "version": 3
   },
   "file_extension": ".py",
   "mimetype": "text/x-python",
   "name": "python",
   "nbconvert_exporter": "python",
   "pygments_lexer": "ipython3",
   "version": "3.7.3"
  }
 },
 "nbformat": 4,
 "nbformat_minor": 2
}
