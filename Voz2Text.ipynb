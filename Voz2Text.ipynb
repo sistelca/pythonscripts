{
 "cells": [
  {
   "cell_type": "code",
   "execution_count": 1,
   "metadata": {},
   "outputs": [],
   "source": [
    "import speech_recognition as sr\n",
    "from os import path, listdir\n",
    "from pydub import AudioSegment\n",
    "from pydub.utils import make_chunks\n",
    "import os"
   ]
  },
  {
   "cell_type": "code",
   "execution_count": null,
   "metadata": {},
   "outputs": [],
   "source": [
    "# convert mp3 file to wav                                                       \n",
    "sound = AudioSegment.from_file(\"C:/Users/User/Documents/Grabaciones de sonido/Grabación_5.m4a\")\n",
    "\n",
    "chunk_length_ms = 10000 # pydub calculates in millisec\n",
    "chunks = make_chunks(sound, chunk_length_ms) #Make chunks of one sec\n",
    "\n",
    "#Export all of the individual chunks as wav files\n",
    "\n",
    "for i, chunk in enumerate(chunks):\n",
    "    chunk_name = \"chunk{0}.wav\".format(i)\n",
    "    print(f\"exporting: {chunk_name}\")\n",
    "    chunk.export(chunk_name, format=\"wav\")\n",
    "\n",
    "\n",
    "#sound.export(\"transcript.wav\", format=\"wav\") # para AUDIO_FILE\n",
    "\n"
   ]
  },
  {
   "cell_type": "code",
   "execution_count": 6,
   "metadata": {},
   "outputs": [],
   "source": [
    "\n",
    "def voz2txt(file):\n",
    "    # transcribe audio file                                                         \n",
    "    AUDIO_FILE = file\n",
    "                                 \n",
    "    r = sr.Recognizer()\n",
    "    with sr.AudioFile(AUDIO_FILE) as source:\n",
    "        audio = r.record(source)  # read the entire audio file                  \n",
    "\n",
    "        # recognize speech using Sphinx\n",
    "        try:\n",
    "            print(f\"{file} dice: \" + r.recognize_google(audio, language=\"es-ES\"))\n",
    "        except sr.UnknownValueError:\n",
    "            print(\"Google could not understand audio\")\n",
    "        except sr.RequestError as e:\n",
    "            print(\"Google error; {0}\".format(e))\n",
    "\n"
   ]
  },
  {
   "cell_type": "code",
   "execution_count": 5,
   "metadata": {},
   "outputs": [
    {
     "name": "stdout",
     "output_type": "stream",
     "text": [
      "grabacion.wav dice: por ejemplo Qué temas tan importantes como la revocatoria de inscripciones de candidatos a corporaciones públicas y\n"
     ]
    }
   ],
   "source": [
    "voz2txt('grabacion.wav')"
   ]
  },
  {
   "cell_type": "code",
   "execution_count": 8,
   "metadata": {},
   "outputs": [
    {
     "name": "stdout",
     "output_type": "stream",
     "text": [
      "./v2t/chunk0.wav dice: plataformas de videos en YouTube la plataforma preferida para ver videos online y además 810 colombianos dice te cuento que utilizan\n",
      "duration = 9.047048330307007\n",
      "./v2t/chunk1.wav dice: para propósitos educativos o de aprendizaje Pero cómo se informa sobre estos productos Pues bueno el 56% de los encuestados dijo que a través de bus\n",
      "duration = 7.611462354660034\n",
      "./v2t/chunk2.wav dice: tiendas online en 4% y 43% plataformas de video Qué productos compran a través de internet el 38% de los encuestados dijo\n",
      "duration = 7.144888401031494\n",
      "./v2t/chunk3.wav dice: productos electrónicos como computadoras televisores Smartphone 38% ropa y 37% calzado venta formas estamos\n",
      "duration = 9.84689474105835\n",
      "./v2t/chunk4.wav dice: el internet y es un poco de comportamiento de los datos analizados estás escuchando un rato\n",
      "duration = 6.826574325561523\n",
      "./v2t/chunk5.wav dice: Qué pasaba con una deliciosa comida recuerda lavar las frutas y verduras antes de preparar\n",
      "duration = 10.74340271949768\n",
      "./v2t/chunk6.wav dice: Banco Popular para agradecerte por todo lo que\n",
      "duration = 8.786284446716309\n",
      "./v2t/chunk7.wav dice: ubicación de manejo y mucho más\n",
      "duration = 4.159298658370972\n"
     ]
    }
   ],
   "source": [
    "import time\n",
    "\n",
    "path = \"./v2t\"\n",
    "\n",
    "dirs = os.listdir( path )\n",
    "dirs = sorted([arch for arch in dirs if not os.path.isdir(arch) and 'chunk' in arch])\n",
    "\n",
    "for trozo in dirs:\n",
    "    start_time = time.time()\n",
    "    voz2txt(path + '/' + trozo)\n",
    "    os.rename(path + '/' + trozo, path + '/_' + trozo[1:])\n",
    "    print(f'duration = {time.time() - start_time}')"
   ]
  },
  {
   "cell_type": "code",
   "execution_count": null,
   "metadata": {},
   "outputs": [],
   "source": []
  },
  {
   "cell_type": "code",
   "execution_count": 20,
   "metadata": {},
   "outputs": [
    {
     "name": "stdout",
     "output_type": "stream",
     "text": [
      "hola\n",
      "ney\n",
      "hola\n",
      "ney\n"
     ]
    }
   ],
   "source": [
    "import speech_recognition as sr\n",
    "\n",
    "def reconocimiento_voz():\n",
    "    r = sr.Recognizer() \n",
    "\n",
    "    with sr.Microphone() as source:\n",
    "        print('Speak Anything : ')\n",
    "        r.adjust_for_ambient_noise(source)\n",
    "        audio = r.listen(source, phrase_time_limit=3)\n",
    "\n",
    "        try:\n",
    "            text = r.recognize_google(audio, language=\"es-ES\")\n",
    "            print('You said: {}'.format(text))\n",
    "        except:\n",
    "            print('Sorry could not hear')\n"
   ]
  },
  {
   "cell_type": "code",
   "execution_count": 18,
   "metadata": {},
   "outputs": [
    {
     "name": "stdout",
     "output_type": "stream",
     "text": [
      "Speak Anything : \n",
      "You said: pintura la conexión\n"
     ]
    }
   ],
   "source": [
    "reconocimiento_voz()"
   ]
  },
  {
   "cell_type": "code",
   "execution_count": null,
   "metadata": {},
   "outputs": [],
   "source": [
    "import speech_recognition as sr\n",
    "\n",
    "def callback(recognizer, audio):                          # this is called from the background thread\n",
    "    print('hola')\n",
    "    try:\n",
    "        #recognizer.adjust_for_ambient_noise(sr.Microphone())\n",
    "        print(\"<<You>>: \" + recognizer.recognize_sphinx(audio, language=\"es-ES\"))  # received audio data, now need to recognize it\n",
    "    except:\n",
    "        print(\"ney\")\n",
    "\n",
    "r = sr.Recognizer()\n",
    "r.listen_in_background(sr.Microphone(), callback)\n",
    "\n",
    "import time\n",
    "while True: time.sleep(1) "
   ]
  },
  {
   "cell_type": "code",
   "execution_count": 2,
   "metadata": {},
   "outputs": [],
   "source": [
    "from grabadora_sonido import grabar"
   ]
  },
  {
   "cell_type": "code",
   "execution_count": 4,
   "metadata": {},
   "outputs": [
    {
     "name": "stdout",
     "output_type": "stream",
     "text": [
      "grabando...\n",
      "grabación terminada\n"
     ]
    },
    {
     "data": {
      "text/plain": [
       "'ok'"
      ]
     },
     "execution_count": 4,
     "metadata": {},
     "output_type": "execute_result"
    }
   ],
   "source": [
    "grabar()"
   ]
  },
  {
   "cell_type": "markdown",
   "metadata": {},
   "source": [
    "#### Mejor grabar para procesar, microfono hace ruido"
   ]
  }
 ],
 "metadata": {
  "kernelspec": {
   "display_name": "Python 3",
   "language": "python",
   "name": "python3"
  },
  "language_info": {
   "codemirror_mode": {
    "name": "ipython",
    "version": 3
   },
   "file_extension": ".py",
   "mimetype": "text/x-python",
   "name": "python",
   "nbconvert_exporter": "python",
   "pygments_lexer": "ipython3",
   "version": "3.7.4"
  }
 },
 "nbformat": 4,
 "nbformat_minor": 2
}
