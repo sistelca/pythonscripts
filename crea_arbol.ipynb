{
 "cells": [
  {
   "cell_type": "code",
   "execution_count": 2,
   "metadata": {},
   "outputs": [],
   "source": [
    "import pandas as pd\n",
    "import numpy as np\n",
    "import random\n",
    "import json\n",
    "\n",
    "directorio = pd.read_csv('./WilmerCSV.csv', index_col='ID')"
   ]
  },
  {
   "cell_type": "code",
   "execution_count": 3,
   "metadata": {},
   "outputs": [
    {
     "data": {
      "text/html": [
       "<div>\n",
       "<style scoped>\n",
       "    .dataframe tbody tr th:only-of-type {\n",
       "        vertical-align: middle;\n",
       "    }\n",
       "\n",
       "    .dataframe tbody tr th {\n",
       "        vertical-align: top;\n",
       "    }\n",
       "\n",
       "    .dataframe thead th {\n",
       "        text-align: right;\n",
       "    }\n",
       "</style>\n",
       "<table border=\"1\" class=\"dataframe\">\n",
       "  <thead>\n",
       "    <tr style=\"text-align: right;\">\n",
       "      <th></th>\n",
       "      <th>Job Title</th>\n",
       "      <th>Email Address</th>\n",
       "      <th>FirstName LastName</th>\n",
       "      <th>parent</th>\n",
       "    </tr>\n",
       "    <tr>\n",
       "      <th>ID</th>\n",
       "      <th></th>\n",
       "      <th></th>\n",
       "      <th></th>\n",
       "      <th></th>\n",
       "    </tr>\n",
       "  </thead>\n",
       "  <tbody>\n",
       "    <tr>\n",
       "      <th>1</th>\n",
       "      <td>Project Manager</td>\n",
       "      <td>Blake_London9672@supunk.biz</td>\n",
       "      <td>Blake London</td>\n",
       "      <td>-1</td>\n",
       "    </tr>\n",
       "    <tr>\n",
       "      <th>2</th>\n",
       "      <td>Assistant Buyer</td>\n",
       "      <td>Camden_Redden9030@bauros.biz</td>\n",
       "      <td>Camden Redden</td>\n",
       "      <td>-1</td>\n",
       "    </tr>\n",
       "    <tr>\n",
       "      <th>3</th>\n",
       "      <td>Machine Operator</td>\n",
       "      <td>Lily_Donovan5896@typill.biz</td>\n",
       "      <td>Lily Donovan</td>\n",
       "      <td>-1</td>\n",
       "    </tr>\n",
       "    <tr>\n",
       "      <th>4</th>\n",
       "      <td>Pharmacist</td>\n",
       "      <td>Emely_Bingham8992@typill.biz</td>\n",
       "      <td>Emely Bingham</td>\n",
       "      <td>-1</td>\n",
       "    </tr>\n",
       "    <tr>\n",
       "      <th>5</th>\n",
       "      <td>Auditor</td>\n",
       "      <td>Bree_Cox8741@sheye.org</td>\n",
       "      <td>Bree Cox</td>\n",
       "      <td>-1</td>\n",
       "    </tr>\n",
       "  </tbody>\n",
       "</table>\n",
       "</div>"
      ],
      "text/plain": [
       "           Job Title                 Email Address FirstName LastName  parent\n",
       "ID                                                                           \n",
       "1    Project Manager   Blake_London9672@supunk.biz       Blake London      -1\n",
       "2    Assistant Buyer  Camden_Redden9030@bauros.biz      Camden Redden      -1\n",
       "3   Machine Operator   Lily_Donovan5896@typill.biz       Lily Donovan      -1\n",
       "4         Pharmacist  Emely_Bingham8992@typill.biz      Emely Bingham      -1\n",
       "5            Auditor        Bree_Cox8741@sheye.org           Bree Cox      -1"
      ]
     },
     "execution_count": 3,
     "metadata": {},
     "output_type": "execute_result"
    }
   ],
   "source": [
    "directorio.parent = -1\n",
    "directorio.head()"
   ]
  },
  {
   "cell_type": "code",
   "execution_count": 4,
   "metadata": {},
   "outputs": [],
   "source": [
    "\n",
    "def generar_rama_binaria(adn, degrad):\n",
    "    nivel = []\n",
    "    for i in range(len(adn)):\n",
    "        sub_directorio = directorio.loc[directorio['parent'] == -1]\n",
    "        prob = random.random() \n",
    "        num_ref =2\n",
    "        \n",
    "        if prob < degrad[0]:\n",
    "            nu_ref = 0\n",
    "        elif prob >= degrad[0] and prob < degrad[0] + degrad[1]:\n",
    "            num_ref = 1\n",
    "        \n",
    "        referidos = sub_directorio.sample(num_ref).index   # **\n",
    "        directorio.loc[referidos, 'parent'] = adn[i]\n",
    "        nivel.extend(referidos.values)\n",
    "    return nivel"
   ]
  },
  {
   "cell_type": "code",
   "execution_count": 5,
   "metadata": {},
   "outputs": [
    {
     "name": "stdout",
     "output_type": "stream",
     "text": [
      "1 \t 6\n",
      "2 \t 12\n",
      "3 \t 24\n",
      "4 \t 48\n",
      "5 \t 85\n",
      "6 \t 151\n",
      "7 \t 266\n",
      "8 \t 413\n",
      "9 \t 653\n",
      "10 \t 1046\n"
     ]
    }
   ],
   "source": [
    "# primer paso elegir al azar 3 filas y asignarles el valor 0 a \n",
    "# columna parent\n",
    "\n",
    "adn = 0\n",
    "\n",
    "sub_directorio = directorio.loc[directorio['parent'] == -1]\n",
    "referidos = sub_directorio.sample(3).index\n",
    "directorio.loc[referidos, 'parent'] = adn\n",
    "\n",
    "for i in range(10):\n",
    "    if i<=3:\n",
    "        descendientes = generar_rama_binaria(referidos, [0., 0., 1.])\n",
    "        \n",
    "    elif i>3 and i<=6:\n",
    "        descendientes = generar_rama_binaria(referidos, [0., .25, .75])\n",
    "        \n",
    "    else:\n",
    "        descendientes = generar_rama_binaria(referidos, [.1, .4, .5])\n",
    "\n",
    "    print('{} \\t {}'.format(i+1, len(descendientes)))\n",
    "    referidos = descendientes.copy()\n",
    "\n",
    "# esta OK!"
   ]
  },
  {
   "cell_type": "code",
   "execution_count": 5,
   "metadata": {
    "scrolled": false
   },
   "outputs": [],
   "source": [
    "# lista todo el directorio de afiliados ordenado por parent\n",
    "#directorio.loc[directorio['parent']>-1].sort_values('parent')"
   ]
  },
  {
   "cell_type": "code",
   "execution_count": 6,
   "metadata": {},
   "outputs": [
    {
     "data": {
      "text/plain": [
       "Job Title             2707\n",
       "Email Address         2707\n",
       "FirstName LastName    2707\n",
       "parent                2707\n",
       "dtype: int64"
      ]
     },
     "execution_count": 6,
     "metadata": {},
     "output_type": "execute_result"
    }
   ],
   "source": [
    "directorio.loc[directorio['parent']>-1].count()"
   ]
  },
  {
   "cell_type": "markdown",
   "metadata": {},
   "source": [
    "#### seleccionar al azar un elemento del directorio y listar su ascendencia"
   ]
  },
  {
   "cell_type": "code",
   "execution_count": 7,
   "metadata": {},
   "outputs": [
    {
     "name": "stdout",
     "output_type": "stream",
     "text": [
      "nivel profundidad:  10\n",
      "\n",
      " Job Title                       IT Support Staff\n",
      "Email Address         Hazel_Janes4931@bungar.biz\n",
      "FirstName LastName                   Hazel Janes\n",
      "parent                                      7300\n",
      "Name: 8430, dtype: object\n",
      "\n",
      " Job Title                                       Operator\n",
      "Email Address         Kassandra_Sylvester7447@kideod.biz\n",
      "FirstName LastName                   Kassandra Sylvester\n",
      "parent                                              4677\n",
      "Name: 7300, dtype: object\n",
      "\n",
      " Job Title                          Stockbroker\n",
      "Email Address         Tony_Drake809@supunk.biz\n",
      "FirstName LastName                  Tony Drake\n",
      "parent                                    7787\n",
      "Name: 4677, dtype: object\n",
      "\n",
      " Job Title                   Service Supervisor\n",
      "Email Address         Wendy_Owens52@bungar.biz\n",
      "FirstName LastName                 Wendy Owens\n",
      "parent                                    1176\n",
      "Name: 7787, dtype: object\n",
      "\n",
      " Job Title                     Machine Operator\n",
      "Email Address         Alma_Allen1640@corti.com\n",
      "FirstName LastName                  Alma Allen\n",
      "parent                                    3887\n",
      "Name: 1176, dtype: object\n",
      "\n",
      " Job Title                                Lecturer\n",
      "Email Address         Rufus_Holmes8617@hourpy.biz\n",
      "FirstName LastName                   Rufus Holmes\n",
      "parent                                       4380\n",
      "Name: 3887, dtype: object\n",
      "\n",
      " Job Title                      Production Painter\n",
      "Email Address         Jayden_Ingham7053@vetan.org\n",
      "FirstName LastName                  Jayden Ingham\n",
      "parent                                        195\n",
      "Name: 4380, dtype: object\n",
      "\n",
      " Job Title                    Service Supervisor\n",
      "Email Address         Anais_Clark7394@sheye.org\n",
      "FirstName LastName                  Anais Clark\n",
      "parent                                     6102\n",
      "Name: 195, dtype: object\n",
      "\n",
      " Job Title                Global Logistics Supervisor\n",
      "Email Address         Maribel_Barrett8104@nimogy.biz\n",
      "FirstName LastName                   Maribel Barrett\n",
      "parent                                          6950\n",
      "Name: 6102, dtype: object\n",
      "\n",
      " Job Title                              Accountant\n",
      "Email Address         Georgia_James828@nanoff.biz\n",
      "FirstName LastName                  Georgia James\n",
      "parent                                       7494\n",
      "Name: 6950, dtype: object\n",
      "\n",
      " Job Title                        Restaurant Manager\n",
      "Email Address         Deborah_Warden4614@eirey.tech\n",
      "FirstName LastName                   Deborah Warden\n",
      "parent                                            0\n",
      "Name: 7494, dtype: object\n"
     ]
    }
   ],
   "source": [
    "# seleccionar al azar un elemento del directorio y listar su ascendencia\n",
    "\n",
    "# seleccion\n",
    "cliente = directorio.loc[directorio['parent']>-1].sample(1).index\n",
    "\n",
    "fila = directorio.loc[cliente]\n",
    "adn = fila['parent'].values[0]\n",
    "arbol = [fila.index.values[0]]\n",
    "\n",
    "# busca ascendencia\n",
    "while True:\n",
    "    if adn > 0:\n",
    "        ancestro = directorio.loc[adn]\n",
    "        arbol.append(adn)\n",
    "        adn = ancestro['parent']\n",
    "    else:\n",
    "        break\n",
    "\n",
    "# lista ascendencia\n",
    "print('nivel profundidad: ', len(arbol)-1)\n",
    "for rama in arbol:\n",
    "    print('\\n', directorio.loc[rama])"
   ]
  },
  {
   "cell_type": "markdown",
   "metadata": {},
   "source": [
    "### seleccionar al azar un elemento del directorio y listar su descendencia"
   ]
  },
  {
   "cell_type": "code",
   "execution_count": 87,
   "metadata": {},
   "outputs": [],
   "source": [
    "# seleccionar al azar un elemento del directorio y listar su descendencia\n",
    "#cliente = directorio.loc[directorio['parent']>-1].sample(1).index\n",
    "\n",
    "# seleccion\n",
    "cliente = [1176]\n",
    "\n",
    "adn = [cliente[0]]\n",
    "arbol = []\n",
    "\n",
    "# dic_des { directorio.loc[rama, 'Email Address']: cliente}\n",
    "\n",
    "# busca descendencia\n",
    "\n",
    "pata_corta = False \n",
    "fin_rep = False\n",
    "\n",
    "while True:\n",
    "    \n",
    "    for ancestro in adn:\n",
    "        hijos = directorio.loc[directorio['parent'] == ancestro].index.values\n",
    "        if len(arbol) == 0:\n",
    "            padre = \"null\"\n",
    "        else:\n",
    "            padre = directorio.loc[ancestro, 'parent']\n",
    "        \n",
    "        if len(hijos) > 0:\n",
    "            arbol.append({\"name\": ancestro, \"parent\": padre, \"children\": list(hijos)})\n",
    "            \n",
    "        if len(hijos) < 2: pata_corta = True\n",
    "\n",
    "    descendientes = directorio.loc[directorio['parent'].isin(adn)].index.values # descendientes debe ser mas preciso \n",
    "                                                                                # para establecer rama de descendencia\n",
    "    if len(descendientes)==0  or fin_rep:\n",
    "        break\n",
    "    elif pata_corta:\n",
    "        fin_rep = True\n",
    "        \n",
    "\n",
    "    adn = descendientes.copy()\n",
    "   \n"
   ]
  },
  {
   "cell_type": "code",
   "execution_count": 74,
   "metadata": {},
   "outputs": [
    {
     "data": {
      "text/plain": [
       "[{'name': 1176, 'parent': 'null', 'children': [7787, 9433]},\n",
       " {'name': 7787, 'parent': 1176, 'children': [2027, 4677]},\n",
       " {'name': 9433, 'parent': 1176, 'children': [4258, 7222]},\n",
       " {'name': 2027, 'parent': 7787, 'children': [4341]},\n",
       " {'name': 4258, 'parent': 9433, 'children': [2054, 2446]},\n",
       " {'name': 4677, 'parent': 7787, 'children': [1450, 7300]},\n",
       " {'name': 7222, 'parent': 9433, 'children': [2022]},\n",
       " {'name': 1450, 'parent': 4677, 'children': [7387]},\n",
       " {'name': 2022, 'parent': 7222, 'children': [2479, 8603]},\n",
       " {'name': 2054, 'parent': 4258, 'children': [3513, 5173]},\n",
       " {'name': 2446, 'parent': 4258, 'children': [3829, 4527]},\n",
       " {'name': 4341, 'parent': 2027, 'children': [3510]},\n",
       " {'name': 7300, 'parent': 4677, 'children': [1101, 8430]}]"
      ]
     },
     "execution_count": 74,
     "metadata": {},
     "output_type": "execute_result"
    }
   ],
   "source": [
    "arbol"
   ]
  },
  {
   "cell_type": "code",
   "execution_count": 88,
   "metadata": {
    "scrolled": false
   },
   "outputs": [],
   "source": [
    "# convierte lista arbol en diccionario anidado para procesarlo\n",
    "# por visualizador\n",
    "\n",
    "def agrega_hijo(padre):\n",
    "    for rama in arbol:\n",
    "        if rama['name'] == padre:\n",
    "            dat_niv = {'name': str(rama['name']), 'parent': str(rama['parent'])}\n",
    "            dat_niv['children'] = [agrega_hijo(children) for children in rama['children']]\n",
    "            \n",
    "            if dat_niv['children'] == [None] or dat_niv['children'] == [None, None]:\n",
    "                dat_niv.pop('children')\n",
    "                #dat_niv['children'] = [str(children) for children in rama['children']]\n",
    "            \n",
    "            return dat_niv\n",
    "\n",
    "treeData = []\n",
    "\n",
    "dat_anid = {'name': str(arbol[0]['name']), 'parent': arbol[0]['parent']}\n",
    "\n",
    "dat_anid['children'] = [agrega_hijo(children) for children in arbol[0]['children']]\n",
    "\n",
    "treeData.append(dat_anid)\n",
    "\n"
   ]
  },
  {
   "cell_type": "code",
   "execution_count": 85,
   "metadata": {
    "scrolled": false
   },
   "outputs": [
    {
     "data": {
      "text/plain": [
       "[{'name': '1176',\n",
       "  'parent': 'null',\n",
       "  'children': [{'name': '7787',\n",
       "    'parent': '1176',\n",
       "    'children': [{'name': '2027',\n",
       "      'parent': '7787',\n",
       "      'children': [{'name': '4341', 'parent': '2027'}]},\n",
       "     {'name': '4677',\n",
       "      'parent': '7787',\n",
       "      'children': [{'name': '1450', 'parent': '4677'},\n",
       "       {'name': '7300', 'parent': '4677'}]}]},\n",
       "   {'name': '9433',\n",
       "    'parent': '1176',\n",
       "    'children': [{'name': '4258',\n",
       "      'parent': '9433',\n",
       "      'children': [{'name': '2054', 'parent': '4258'},\n",
       "       {'name': '2446', 'parent': '4258'}]},\n",
       "     {'name': '7222',\n",
       "      'parent': '9433',\n",
       "      'children': [{'name': '2022', 'parent': '7222'}]}]}]}]"
      ]
     },
     "execution_count": 85,
     "metadata": {},
     "output_type": "execute_result"
    }
   ],
   "source": [
    "# http://bl.ocks.org/d3noob/8375092 funcion javascript para visualizar\n",
    "# arbol binario treeData\n",
    "treeData"
   ]
  },
  {
   "cell_type": "code",
   "execution_count": 89,
   "metadata": {},
   "outputs": [],
   "source": [
    "# almacena diccionario como json en archivo javascript\n",
    "\n",
    "\n",
    "treeData = 'var arbol = '+ json.dumps(treeData)\n",
    "\n",
    "with open('arbol.js', 'w') as js_file:\n",
    "    js_file.write(treeData)"
   ]
  }
 ],
 "metadata": {
  "kernelspec": {
   "display_name": "Python 3",
   "language": "python",
   "name": "python3"
  },
  "language_info": {
   "codemirror_mode": {
    "name": "ipython",
    "version": 3
   },
   "file_extension": ".py",
   "mimetype": "text/x-python",
   "name": "python",
   "nbconvert_exporter": "python",
   "pygments_lexer": "ipython3",
   "version": "3.7.1"
  }
 },
 "nbformat": 4,
 "nbformat_minor": 2
}
