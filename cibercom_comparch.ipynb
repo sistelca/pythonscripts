{
 "cells": [
  {
   "cell_type": "code",
   "execution_count": 9,
   "metadata": {},
   "outputs": [],
   "source": [
    "# compara archivos php respaldo y produccion\n",
    "import os\n",
    "import filecmp\n",
    "import json"
   ]
  },
  {
   "cell_type": "code",
   "execution_count": 91,
   "metadata": {},
   "outputs": [],
   "source": [
    "def content_path(path):\n",
    "    dirs = os.walk( path )\n",
    "    # todos los archivos y directorios dentro del path\n",
    "    contenido = []\n",
    "    for file in dirs:\n",
    "        contenido.append(file)\n",
    "        \n",
    "    # filtra archivos *.php de todos los subdirectorios\n",
    "    fcosa = []\n",
    "\n",
    "    for algo in contenido:\n",
    "\n",
    "        temp = [archivo for archivo in algo[2] if '.php' in archivo and not '~' in archivo]\n",
    "\n",
    "        if len(temp) > 0:\n",
    "            fcosa.append([algo[0], temp])\n",
    "\n",
    "    return fcosa\n",
    "\n",
    "path_git = \"Cibercom\"\n",
    "\n",
    "path_prod = os.path.join(\"Downloads\", \"cibercom\")\n",
    "\n",
    "arb_resp, arb_prod = [content_path(path_git), content_path(path_prod)]\n"
   ]
  },
  {
   "cell_type": "code",
   "execution_count": 94,
   "metadata": {},
   "outputs": [
    {
     "name": "stdout",
     "output_type": "stream",
     "text": [
      "Cibercom\\index.php\n",
      "Downloads\\cibercom\\index.php\n",
      "False \n",
      "\n",
      "==== \n",
      "\n",
      "Cibercom\\busqueda\\busca.php\n",
      "Downloads\\cibercom\\busqueda\\busca.php\n",
      "False \n",
      "\n",
      "Cibercom\\busqueda\\menuclientes.php\n",
      "Downloads\\cibercom\\busqueda\\menuclientes.php\n",
      "False \n",
      "\n",
      "==== \n",
      "\n",
      "Cibercom\\edicion\\borratran.php\n",
      "Downloads\\cibercom\\edicion\\borratran.php\n",
      "False \n",
      "\n",
      "Cibercom\\edicion\\cliente.php\n",
      "Downloads\\cibercom\\edicion\\cliente.php\n",
      "False \n",
      "\n",
      "Cibercom\\edicion\\edicion.php\n",
      "Downloads\\cibercom\\edicion\\edicion.php\n",
      "False \n",
      "\n",
      "Cibercom\\edicion\\frm_edicion.php\n",
      "Downloads\\cibercom\\edicion\\frm_edicion.php\n",
      "False \n",
      "\n",
      "Cibercom\\edicion\\muestra_cliente.php\n",
      "Downloads\\cibercom\\edicion\\muestra_cliente.php\n",
      "False \n",
      "\n",
      "Cibercom\\edicion\\muestra_hist.php\n",
      "Downloads\\cibercom\\edicion\\muestra_hist.php\n",
      "False \n",
      "\n",
      "Cibercom\\edicion\\pago.php\n",
      "Downloads\\cibercom\\edicion\\pago.php\n",
      "False \n",
      "\n",
      "Cibercom\\edicion\\registra_edicion.php\n",
      "Downloads\\cibercom\\edicion\\registra_edicion.php\n",
      "False \n",
      "\n",
      "Cibercom\\edicion\\registra_pago.php\n",
      "Downloads\\cibercom\\edicion\\registra_pago.php\n",
      "False \n",
      "\n",
      "==== \n",
      "\n",
      "Cibercom\\ingreso\\acepcion.php\n",
      "Downloads\\cibercom\\ingreso\\acepcion.php\n",
      "False \n",
      "\n",
      "Cibercom\\ingreso\\cambi.php\n",
      "Downloads\\cibercom\\ingreso\\cambi.php\n",
      "False \n",
      "\n",
      "Cibercom\\ingreso\\norecordar.php\n",
      "Downloads\\cibercom\\ingreso\\norecordar.php\n",
      "False \n",
      "\n",
      "Cibercom\\ingreso\\opciones.php\n",
      "Downloads\\cibercom\\ingreso\\opciones.php\n",
      "False \n",
      "\n",
      "Cibercom\\ingreso\\recor.php\n",
      "Downloads\\cibercom\\ingreso\\recor.php\n",
      "False \n",
      "\n",
      "==== \n",
      "\n",
      "Cibercom\\lista\\conecta2.php\n",
      "Downloads\\cibercom\\lista\\conecta2.php\n",
      "False \n",
      "\n",
      "Cibercom\\lista\\frm_ingres.php\n",
      "Downloads\\cibercom\\lista\\frm_ingres.php\n",
      "False \n",
      "\n",
      "Cibercom\\lista\\frm_status.php\n",
      "Downloads\\cibercom\\lista\\frm_status.php\n",
      "False \n",
      "\n",
      "Cibercom\\lista\\genreport.php\n",
      "Downloads\\cibercom\\lista\\genreport.php\n",
      "False \n",
      "\n",
      "Cibercom\\lista\\list_ingresos.php\n",
      "Downloads\\cibercom\\lista\\list_ingresos.php\n",
      "False \n",
      "\n",
      "Cibercom\\lista\\list_status.php\n",
      "Downloads\\cibercom\\lista\\list_status.php\n",
      "False \n",
      "\n",
      "Cibercom\\lista\\pedirlistado.php\n",
      "Downloads\\cibercom\\lista\\pedirlistado.php\n",
      "False \n",
      "\n",
      "==== \n",
      "\n",
      "Cibercom\\modelo\\Basedatos.class.php\n",
      "Downloads\\cibercom\\modelo\\Basedatos.class.php\n",
      "False \n",
      "\n",
      "Cibercom\\modelo\\query2json.php\n",
      "Downloads\\cibercom\\modelo\\query2json.php\n",
      "False \n",
      "\n",
      "==== \n",
      "\n"
     ]
    }
   ],
   "source": [
    "for dres, dpro in zip(arb_resp, arb_prod):\n",
    "\n",
    "    for ares, apro in zip(dres[1], dpro[1]):\n",
    "\n",
    "        print( os.path.join(dres[0], ares))\n",
    "        print( os.path.join(dpro[0], ares))\n",
    "        print(filecmp.cmp(os.path.join(dres[0], ares), os.path.join(dpro[0], ares), shallow=False), '\\n')\n",
    "        \n",
    "    print('==== \\n')"
   ]
  },
  {
   "cell_type": "code",
   "execution_count": 114,
   "metadata": {},
   "outputs": [
    {
     "name": "stdout",
     "output_type": "stream",
     "text": [
      "True\n"
     ]
    }
   ],
   "source": [
    "import hashlib\n",
    "\n",
    "#print(filecmp.cmp(\"Cibercom\\modelo\\query2json.php\", \"Downloads\\cibercom\\modelo\\query2json.php\", shallow=False), '\\n')\n",
    "\n",
    "with open(\"Cibercom//busqueda//busca.php\") as f:\n",
    "    doc = f.read()\n",
    "    a = hashlib.sha1(doc.encode('utf-8')).hexdigest()\n",
    "\n",
    "with open(\"Downloads//cibercom//busqueda//busca.php\") as f:\n",
    "    doc = f.read()\n",
    "    b = hashlib.sha1(doc.encode('utf-8')).hexdigest()\n",
    "\n",
    "print(a==b)"
   ]
  },
  {
   "cell_type": "code",
   "execution_count": 110,
   "metadata": {},
   "outputs": [
    {
     "data": {
      "text/plain": [
       "'<!DOCTYPE html PUBLIC \"-//W3C//DTD XHTML 1.0 Transitional//EN\" \"http://www.w3.org/TR/xhtml1/DTD/xhtml1-transitional.dtd\">\\n<html xmlns=\"http://www.w3.org/1999/xhtml\">\\n<head>\\n<meta http-equiv=\"Content-Type\" content=\"text/html; charset=utf-8\" />\\n<meta name=\"viewport\" content=\"width=device-width, initial-scale=1.0\">\\n\\n<title>Red Comunitaria</title>\\n\\n<link rel=\"stylesheet\" href=\"./estilos/estilo.css\" type=\"text/css\" />\\n\\n<style type=\"text/css\"> \\n<!-- \\n\\n\\n/* Tips for Elastic layouts \\n1. Since the elastic layouts overall sizing is based on the user\\'s default fonts size, they are more unpredictable. Used correctly, they are also more accessible for those that need larger fonts size since the line length remains proportionate.\\n2. Sizing of divs in this layout are based on the 100% font size in the body element. If you decrease the text size overall by using a font-size: 80% on the body element or the #container, remember that the entire layout will downsize proportionately. You may want to increase the widths of the various divs to compensate for this.\\n3. If font sizing is changed in differing amounts on each div instead of on the overall design (ie: #sidebar1 is given a 70% font size and #mainContent is given an 85% font size), this will proportionately change each of the divs overall size. You may want to adjust based on your final font sizing.\\n*/\\n.twoColElsLtHdr #container { \\n\\twidth: 46em;  /* this width will create a container that will fit in an 800px browser window if text is left at browser default font sizes */\\n\\tbackground: #FFFFFF;\\n\\tmargin: 0 auto; /* the auto margins (in conjunction with a width) center the page */\\n\\tborder: 1px solid #000000;\\n\\ttext-align: left; /* this overrides the text-align: center on the body element. */\\n} \\n.twoColElsLtHdr #header { \\n\\tbackground: #DDDDDD; \\n\\tpadding: 0 10px;  /* this padding matches the left alignment of the elements in the divs that appear beneath it. If an image is used in the #header instead of text, you may want to remove the padding. */\\n} \\n.twoColElsLtHdr #header h1 {\\n\\tmargin: 0; /* zeroing the margin of the last element in the #header div will avoid margin collapse - an unexplainable space between divs. If the div has a border around it, this is not necessary as that also avoids the margin collapse */\\n\\tpadding: 10px 0; /* using padding instead of margin will allow you to keep the element away from the edges of the div */\\n}\\n\\n/* Tips for sidebar1:\\n1. Be aware that if you set a font-size value on this div, the overall width of the div will be adjusted accordingly.\\n2. Since we are working in ems, it\\'s best not to use padding on the sidebar itself. It will be added to the width for standards compliant browsers creating an unknown actual width. \\n3. Space between the side of the div and the elements within it can be created by placing a left and right margin on those elements as seen in the \".twoColElsLtHdr #sidebar1 p\" rule.\\n*/\\n.twoColElsLtHdr #sidebar1 {\\n\\tfloat: left; \\n\\twidth: 12em; /* since this element is floated, a width must be given */\\n\\tbackground: #EBEBEB; /* the background color will be displayed for the length of the content in the column, but no further */\\n\\tpadding: 15px 0; /* top and bottom padding create visual space within this div */\\n}\\n.twoColElsLtHdr #sidebar1 h3, .twoColElsLtHdr #sidebar1 p {\\n\\tmargin-left: 10px; /* the left and right margin should be given to every element that will be placed in the side columns */\\n\\tmargin-right: 10px;\\n}\\n\\n/* Tips for mainContent:\\n1. If you give this #mainContent div a font-size value different than the #sidebar1 div, the margins of the #mainContent div will be based on its font-size and the width of the #sidebar1 div will be based on its font-size. You may wish to adjust the values of these divs.\\n2. The space between the mainContent and sidebar1 is created with the left margin on the mainContent div.  No matter how much content the sidebar1 div contains, the column space will remain. You can remove this left margin if you want the #mainContent div\\'s text to fill the #sidebar1 space when the content in #sidebar1 ends.\\n3. To avoid float drop, you may need to test to determine the approximate maximum image/element size since this layout is based on the user\\'s font sizing combined with the values you set. However, if the user has their browser font size set lower than normal, less space will be available in the #mainContent div than you may see on testing.\\n4. In the Internet Explorer Conditional Comment below, the zoom property is used to give the mainContent \"hasLayout.\" This avoids several IE-specific bugs that may occur.\\n*/\\n.twoColElsLtHdr #mainContent {\\n\\tmargin: 0 1.5em 0 13em; /* the right margin can be given in ems or pixels. It creates the space down the right side of the page. */\\n} \\n.twoColElsLtHdr #footer { \\n\\tpadding: 0 10px; /* this padding matches the left alignment of the elements in the divs that appear above it. */\\n\\tbackground:#DDDDDD;\\n} \\n.twoColElsLtHdr #footer p {\\n\\tmargin: 0; /* zeroing the margins of the first element in the footer will avoid the possibility of margin collapse - a space between divs */\\n\\tpadding: 10px 0; /* padding on this element will create space, just as the the margin would have, without the margin collapse issue */\\n}\\n\\n/* Miscellaneous classes for reuse */\\n.fltrt { /* this class can be used to float an element right in your page. The floated element must precede the element it should be next to on the page. */\\n\\tfloat: right;\\n\\tmargin-left: 8px;\\n}\\n.fltlft { /* this class can be used to float an element left in your page */\\n\\tfloat: left;\\n\\tmargin-right: 8px;\\n}\\n.clearfloat { /* this class should be placed on a div or break element and should be the final element before the close of a container that should fully contain a float */\\n\\tclear:both;\\n    height:0;\\n    font-size: 1px;\\n    line-height: 0px;\\n}\\n.style1 {color: #0000FF}\\n--> \\n</style><!--[if IE]>\\n<style type=\"text/css\"> \\n/* place css fixes for all versions of IE in this conditional comment */\\n.twoColElsLtHdr #sidebar1 { padding-top: 30px; }\\n.twoColElsLtHdr #mainContent { zoom: 1; padding-top: 15px; }\\n/* the above proprietary zoom property gives IE the hasLayout it needs to avoid several bugs */\\n</style>\\n<![endif]-->\\n\\n<script type=\"text/javascript\" src=\"./js/iniajax.js\"></script> \\n\\n</head>\\n\\n<body class=\"twoColElsLtHdr\">\\n\\n<div style=\"border-radius: 15px;width: 700px;height: 24em;padding: 0% 0;\" id=\"container\">\\n<div style=\"border-radius: 15px;height: 6em;\" id=\"header\">\\n\\n<!--\\n <table style=\"text-align: center; margin: auto\" width=\"60%\" border=\"0\">\\n\\n <tr>\\n <td width=\"30%\" scope=\"col\" align=\"center\">\\n\\n<a href=\"../\" target =\"_self\" > <img src=\"./imagens/sistelca.gif\" alt=\"\" width=\"70\" height=\"25\" border=\"0\" /> </a>\\n\\n</td>\\n <td width=\"70%\" scope=\"col\" align=\"center\"><h2>Red Comunitaria JJ Osuna Rodriguez</h2></td>\\n </tr>\\n </table>\\n\\n-->\\n<div style=\"text-align: center;width: 90%;padding: 1% 0;\"> <h2>Red Comunitaria JJ Osuna Rodriguez</h2></div>\\n\\n    <!-- end #header --></div>\\n\\n<!--\\n<div style=\"border-radius: 15px;height: 16em;\" id=\"sidebar1\">\\n\\n<div align=\"center\"><i><font size=\"2em\" color=\"#006633\">La Red Comunitaria (RC), es una herramienta diseÃ±ada con la finalidad de reducir los costos de acceso a los servicios basicos de Internet, ademas de compartir recursos, la RC se apoya en un eficiente Firewall (barrera de fuego) basado en Linux que, entre otras ventajas filtra contenido no deseado de la internet, inhibe el seguimiento de conexiones y controla accesos no autorizados. </font></i> </div>\\n\\n  </div> <!-- end #sidebar1 -->\\n\\n\\n\\n\\n<div style=\"border-radius: 15px;text-align: center;\" id=\"mainContent\">\\n<?php\\nsession_start();\\n$_SESSION[\\'intento\\']=0;\\ninclude_once(\"./ingreso/opciones.php\");\\n?>\\n\\n    <!-- end #mainContent --></div>\\n\\n<!-- end #container --></div>\\n</body>\\n</html>\\n\\n'"
      ]
     },
     "execution_count": 110,
     "metadata": {},
     "output_type": "execute_result"
    }
   ],
   "source": [
    "doc"
   ]
  },
  {
   "cell_type": "code",
   "execution_count": null,
   "metadata": {},
   "outputs": [],
   "source": []
  }
 ],
 "metadata": {
  "kernelspec": {
   "display_name": "Python 3",
   "language": "python",
   "name": "python3"
  },
  "language_info": {
   "codemirror_mode": {
    "name": "ipython",
    "version": 3
   },
   "file_extension": ".py",
   "mimetype": "text/x-python",
   "name": "python",
   "nbconvert_exporter": "python",
   "pygments_lexer": "ipython3",
   "version": "3.7.3"
  }
 },
 "nbformat": 4,
 "nbformat_minor": 2
}
