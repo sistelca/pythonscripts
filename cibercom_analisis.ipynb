{
 "cells": [
  {
   "cell_type": "code",
   "execution_count": 1,
   "metadata": {},
   "outputs": [],
   "source": [
    "import os"
   ]
  },
  {
   "cell_type": "code",
   "execution_count": 2,
   "metadata": {},
   "outputs": [],
   "source": [
    "path = \"Cibercom\"\n",
    "dirs = os.walk( path )\n",
    "\n",
    "# todos los archivos y directorios dentro del path\n",
    "contenido = []\n",
    "for file in dirs:\n",
    "    contenido.append(file)\n",
    "\n",
    "\n",
    "# filtra archivos *.php de todos los subdirectorios\n",
    "fcosa = []\n",
    "numero_de_phps = 0\n",
    "\n",
    "for file in contenido:\n",
    "\n",
    "    if len(file[2]) == 0:\n",
    "        contenido.remove(file)\n",
    "    else:\n",
    "        temp = [archivo for archivo in file[2] if '.php' in archivo]\n",
    "\n",
    "        if len(temp) > 0:\n",
    "            fcosa.append([file[0], temp])\n",
    "            numero_de_phps += len(temp)"
   ]
  },
  {
   "cell_type": "code",
   "execution_count": 20,
   "metadata": {},
   "outputs": [
    {
     "name": "stdout",
     "output_type": "stream",
     "text": [
      "Directorio:  Cibercom \n",
      "\n",
      "Directorio:  Cibercom\\busqueda \n",
      "\n",
      "Directorio:  Cibercom\\edicion \n",
      "\n",
      "****** Archivo:  registra_pago.php lineas : [43]\n",
      "Directorio:  Cibercom\\ingreso \n",
      "\n",
      "****** Archivo:  acepcion.php lineas : [30, 32]\n",
      "Directorio:  Cibercom\\lista \n",
      "\n",
      "Directorio:  Cibercom\\modelo \n",
      "\n",
      "****** Archivo:  Basedatos.class.php lineas : [18]\n"
     ]
    }
   ],
   "source": [
    "# include, require y href las enlazadoras de php OJO\n",
    "\n",
    "def ref_doc(carpeta, doc):\n",
    "    \n",
    "    doc_lineas = doc.split('\\n')\n",
    "    variable = \"$_SESSION['admin_t']\"\n",
    "    \n",
    "    lineas = [i+1 for i, x in enumerate(doc_lineas) if(variable in x)]\n",
    "    \n",
    "    return lineas\n",
    "\n",
    "\n",
    "\n",
    "for directorio, archivos in fcosa:\n",
    "\n",
    "    print(\"Directorio: \", directorio, \"\\n\")\n",
    "\n",
    "\n",
    "    for archivo in archivos:\n",
    "\n",
    "        with open(directorio+'/'+archivo) as f:\n",
    "\n",
    "            doc = f.read()\n",
    "            \n",
    "            lineas = ref_doc(directorio, doc)\n",
    "            \n",
    "            if len(lineas)>0:\n",
    "                print(\"****** Archivo: \", archivo, 'lineas :', lineas)\n",
    "            "
   ]
  }
 ],
 "metadata": {
  "kernelspec": {
   "display_name": "Python 3",
   "language": "python",
   "name": "python3"
  },
  "language_info": {
   "codemirror_mode": {
    "name": "ipython",
    "version": 3
   },
   "file_extension": ".py",
   "mimetype": "text/x-python",
   "name": "python",
   "nbconvert_exporter": "python",
   "pygments_lexer": "ipython3",
   "version": "3.7.3"
  }
 },
 "nbformat": 4,
 "nbformat_minor": 2
}
