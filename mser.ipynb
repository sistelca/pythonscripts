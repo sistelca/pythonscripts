{
 "cells": [
  {
   "cell_type": "code",
   "execution_count": 2,
   "metadata": {},
   "outputs": [],
   "source": [
    "# Importamos las librerías necesarias\n",
    "import cv2\n",
    "import numpy as np\n",
    "import pytesseract\n",
    "import matplotlib.pyplot as plt"
   ]
  },
  {
   "cell_type": "code",
   "execution_count": 3,
   "metadata": {},
   "outputs": [],
   "source": [
    "image = cv2.imread('cedula7.jpg')  # Cargamos la imagen de entrada.\n",
    "original = image.copy()  # Hacemos una copia de la imagen, puesto que haremos cambios en la original\n",
    "gray = cv2.cvtColor(image, cv2.COLOR_BGR2GRAY)  # Convertimos la imagen a escala de grises.\n"
   ]
  },
  {
   "cell_type": "code",
   "execution_count": null,
   "metadata": {},
   "outputs": [],
   "source": [
    "# Instanciamos el detector.\n",
    "#detector = cv2.MSER_create(_delta = 5, _min_area = 90, _max_area = 200)\n",
    "detector = cv2.MSER_create(_delta = 5, _min_area = 120)\n",
    " \n",
    "# Aplicamos el detector MSER\n",
    "keypoints = detector.detect(gray, None)\n",
    " \n",
    "# print(f'Número de puntos clave: {len(keypoints):,}')\n",
    " \n",
    "# procesar todos los puntos clave detectados en la foto.\n",
    "centros = []\n",
    "for keypoint in keypoints:\n",
    "    x, y = np.int64(keypoint.pt) # x, y coordenadas de puntos clave\n",
    "    centros.append([x, y]) # se almacenan en lista\n",
    "\n",
    "centros.sort(key=lambda x:x[1]) # se ordenan segun y\n",
    "    \n",
    "\n",
    "# ycentros sera una lista de clasificacion de cada elemento\n",
    "# de centros segun variacion del eje y con respecto a su vecino\n",
    "# mas cercano, en caso < 5 se consideran misma zona\n",
    "\n",
    "ycentros = []\n",
    "j = 0\n",
    "for i in range(0, len(centros)-1):\n",
    "    vary = abs(centros[i+1][1]-centros[i][1])\n",
    "    if vary < 5:\n",
    "        ycentros.append([j, centros[i][0], centros[i][1]])\n",
    "    else:\n",
    "        j += 1\n",
    "\n",
    "\n",
    "# aqui se calculan la media de coordenada y para cada valor de clasificacion,\n",
    "# y minimo y maximo de coordenada x\n",
    "unique_values = set([list[0] for list in ycentros])\n",
    "group_xs = [[list[1] for list in ycentros if list[0] == value] for value in unique_values]\n",
    "group_ys = [[list[2] for list in ycentros if list[0] == value] for value in unique_values]\n",
    "\n",
    "group_means = [sum(grup)//len(grup) for grup in group_ys if len(grup) > 10]\n",
    "group_mami = [[min(grup), max(grup)] for grup in group_xs if len(grup) > 10]\n",
    "\n",
    "# parametros del detector\n",
    "custom_oem_psm_config = r'--oem 3 --psm 7'\n",
    "\n",
    "# demarcado de areas probables de texto (deteccion) y estraccion de texto\n",
    "texto = []\n",
    "digitos_detectados = False\n",
    "for x, y in zip(group_mami, group_means):\n",
    "    #cv2.line(image,(x[0],y),(x[1],y),(255,0,0),1)\n",
    "    if group_means.index(y) == 0:\n",
    "        color = (255,0,0)\n",
    "    else:\n",
    "        color = (0,255,0)\n",
    "        \n",
    "    cv2.rectangle(image,(x[0]-20,y-20),(x[1]+20,y+20),color,1)\n",
    "    roi = image[y-20:y + 20, x[0]-20:x[1]+20]\n",
    "    text = pytesseract.image_to_string(roi, config=custom_oem_psm_config, timeout=2)\n",
    "    print(text)\n",
    "    # OCR the ROI using Tesseract\n",
    "#     try:\n",
    "#         #rgb = cv2.cvtColor(roi, cv2.COLOR_BGR2RGB)\n",
    "#         text = pytesseract.image_to_string(roi, config=custom_oem_psm_config, timeout=2)\n",
    "#         if sum(list(map(str.isdigit, text))) > 5:\n",
    "#             texto.append(('').join([x for x in text if x.isdigit()]))\n",
    "#             digitos_detectados = True\n",
    "#         elif digitos_detectados:\n",
    "#             var = text.replace('\\n\\x0c', '').replace('\\x0c', '')\n",
    "#             if len(var) > 0:\n",
    "#                 texto.append(var)\n",
    "\n",
    "\n",
    "#     except:\n",
    "#         pass\n",
    "\n",
    "#print(texto[0:3])\n",
    "\n",
    "plt.axis(\"off\")\n",
    "plt.imshow(cv2.cvtColor(image, cv2.COLOR_BGR2RGB))\n"
   ]
  },
  {
   "cell_type": "code",
   "execution_count": null,
   "metadata": {},
   "outputs": [],
   "source": [
    "$json = json_encode(array(\n",
    "     \"datos_red\" => array(\n",
    "        \"op\" => \"UPDATE\",\n",
    "        \"fields\" => array(\n",
    "        'fech_pag' => $fereg)\n",
    "     ),\n",
    "    \"histori_pags\" => array(\n",
    "        \"op\" => \"INSERT INTO\",\n",
    "        \"fields\" => array(\n",
    "            'coduser'=> '$codcliente',\n",
    "            'fech_pag'=> '$fecan1', \n",
    "            'cant_Bf'=> '$totalcnt',\n",
    "            'fech_venc'=> '$c_prxcrt'\n",
    "        )\n",
    "     ),\n",
    "    \n",
    "));"
   ]
  },
  {
   "cell_type": "code",
   "execution_count": 1,
   "metadata": {},
   "outputs": [],
   "source": [
    "clientePago = {'datos_red': {'op': 'UPDATE', 'fields': {'fech_pag': '$fereg'}},\n",
    "               'histori_pags': {'op': 'INSERT INTO', 'fields':{'coduser': '$codcliente',\n",
    "                                                      'fech_pag': '$fecan1', \n",
    "                                                      'cant_Bf': '$totalcnt',\n",
    "                                                      'fech_venc': '$c_prxcrt'}},\n",
    "               'datos_per': {'op': 'UPDATE', 'fields':{'fech_ing': '$fecan1',\n",
    "                                                   'fech_ven': '$c_prxcrt'}}}"
   ]
  },
  {
   "cell_type": "code",
   "execution_count": 2,
   "metadata": {},
   "outputs": [
    {
     "name": "stdout",
     "output_type": "stream",
     "text": [
      "datos_red\n",
      "histori_pags\n",
      "datos_per\n"
     ]
    }
   ],
   "source": [
    "for c in list(clientePago.keys()):\n",
    "    print(c)"
   ]
  },
  {
   "cell_type": "code",
   "execution_count": 7,
   "metadata": {},
   "outputs": [
    {
     "name": "stdout",
     "output_type": "stream",
     "text": [
      "['UPDATE', 'datos_red', 'SET', \"'fech_pag'= '$fereg'\"]\n",
      "['INSERT INTO', 'histori_pags', '(coduser, fech_pag, cant_Bf, fech_venc)', 'VALUES', '($codcliente, $fecan1, $totalcnt, $c_prxcrt)']\n",
      "['UPDATE', 'datos_per', 'SET', \"'fech_ing'= '$fecan1', 'fech_ven'= '$c_prxcrt'\"]\n"
     ]
    }
   ],
   "source": [
    "for tabla in clientePago:\n",
    "\n",
    "    if str(clientePago[tabla]['op']) == 'UPDATE':\n",
    "        accion = str(clientePago[tabla]['fields']).replace(':', '=')\n",
    "        accion = accion.replace('{', '')\n",
    "        accion = accion.replace('}', '')\n",
    "        query = [str(clientePago[tabla]['op']), str(tabla), 'SET', accion]\n",
    "    elif str(clientePago[tabla]['op']) == 'INSERT INTO':\n",
    "        campos = ', '.join(list(clientePago[tabla]['fields'].keys()))\n",
    "        valores = ', '.join(list(clientePago[tabla]['fields'].values()))\n",
    "        #print(f'({cosa})')\n",
    "        query = [str(clientePago[tabla]['op']), str(tabla), f'({campos})', \n",
    "                 'VALUES', f'({valores})']\n",
    "    print(query)"
   ]
  },
  {
   "cell_type": "code",
   "execution_count": 35,
   "metadata": {},
   "outputs": [
    {
     "data": {
      "text/plain": [
       "'(coduser)'"
      ]
     },
     "execution_count": 35,
     "metadata": {},
     "output_type": "execute_result"
    }
   ],
   "source": [
    "setin = "
   ]
  }
 ],
 "metadata": {
  "kernelspec": {
   "display_name": "Python 3",
   "language": "python",
   "name": "python3"
  },
  "language_info": {
   "codemirror_mode": {
    "name": "ipython",
    "version": 3
   },
   "file_extension": ".py",
   "mimetype": "text/x-python",
   "name": "python",
   "nbconvert_exporter": "python",
   "pygments_lexer": "ipython3",
   "version": "3.7.3"
  }
 },
 "nbformat": 4,
 "nbformat_minor": 4
}
