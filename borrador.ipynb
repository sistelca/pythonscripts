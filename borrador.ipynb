{
 "cells": [
  {
   "cell_type": "code",
   "execution_count": null,
   "id": "ad296ffe",
   "metadata": {},
   "outputs": [],
   "source": [
    "import pandas as pd\n",
    "from mplfinance.original_flavor import candlestick_ohlc\n",
    "import numpy as np\n",
    "import matplotlib\n",
    "4\n",
    "import matplotlib\n",
    "matplotlib.use('Agg') # Bypass the need to install Tkinter GUI framework\n",
    "import matplotlib.pyplot as plt\n",
    "import matplotlib.dates as mdates\n",
    "import time\n",
    "import datetime\n",
    "import requests\n",
    "import json\n",
    "\n",
    "from dotenv import dotenv_values\n",
    "import sys\n",
    "import os\n",
    "\n",
    "# Avoid FutureWarning: Pandas will require you to explicitly register matplotlib converters.\n",
    "from pandas.plotting import register_matplotlib_converters\n",
    "register_matplotlib_converters()\n",
    "\n",
    "import warnings\n",
    "\n",
    "warnings.simplefilter(action='ignore', category=FutureWarning)"
   ]
  },
  {
   "cell_type": "code",
   "execution_count": null,
   "id": "6f5c0e2a",
   "metadata": {},
   "outputs": [],
   "source": [
    "class Grafico():\n",
    "    \n",
    "    def __init__(self, currence, tipo='velas'):\n",
    "        \n",
    "        ahora = int(time.time())\n",
    "        if tipo == 'velas':\n",
    "            inicio = ahora - 86400\n",
    "            \n",
    "        elif tipo == '7dias':\n",
    "            inicio = ahora - (7*86400)\n",
    "            \n",
    "        datos = self.leer_data(inicio, ahora, currence)\n",
    "        \n",
    "        if datos:\n",
    "            dproc = self.proc_dat(datos, tipo)\n",
    "            self.plot_graf(dproc, currence, tipo)\n",
    "            \n",
    "    def leer_data(self, inicio, ahora, currence):\n",
    "        \n",
    "        params = (\n",
    "            ('command', 'returnChartData'),\n",
    "            ('currencyPair', currence),\n",
    "            ('start', str(inicio)),\n",
    "            ('end', str(ahora)),\n",
    "            ('period', '1800'),\n",
    "        )\n",
    "\n",
    "        try:\n",
    "            response = requests.get('https://poloniex.com/public', params=params)\n",
    "            return response.json()\n",
    "\n",
    "        except:\n",
    "            return None\n",
    "    \n",
    "    \n",
    "    def proc_dat(self, datos, tipo):\n",
    "        \n",
    "        resultado = pd.DataFrame.from_dict(datos, dtype = np.float64)\n",
    "        \n",
    "        if tipo == 'velas':\n",
    "            resultado['tiempo'] = pd.to_datetime(resultado['date']//1, unit='s')\n",
    "            resultado['date'] = [mdates.date2num(d) for d in resultado['tiempo']]\n",
    "            quotes = [tuple(x) for x in resultado[['date','open','high','low','close']].values]\n",
    "            \n",
    "            return quotes\n",
    "        \n",
    "        elif tipo == '7dias':\n",
    "            resultado['date'] = resultado['date'].apply(lambda x:  datetime.datetime.fromtimestamp(x))\n",
    "            resultado['Last_suav_exp'] = resultado['close'].ewm(span=10,adjust=False).mean()\n",
    "            \n",
    "            return resultado\n",
    "    \n",
    "    def plot_graf(self, dproc, currence, tipo):\n",
    "        \n",
    "        fig, ax = plt.subplots()\n",
    "        ax.grid(b='on', color='k', linewidth=.5, alpha=0.3)\n",
    "        \n",
    "        if tipo == 'velas':\n",
    "            \n",
    "            candlestick_ohlc(ax, dproc, width=0.007, colorup='g', colordown='r',  alpha=1.0)\n",
    "\n",
    "            plt.title(currence)\n",
    "\n",
    "            ax.xaxis_date()\n",
    "            \n",
    "            ax.xaxis.set_major_formatter(mdates.DateFormatter('%y/%m/%d-%H:%M'))\n",
    "            \n",
    "            plt.setp(ax.get_xticklabels(), size = 8)\n",
    "            \n",
    "            plt.gcf().autofmt_xdate()\n",
    "            plt.autoscale(tight=True)\n",
    "\n",
    "        \n",
    "        elif tipo == '7dias':\n",
    "            \n",
    "            x = list(dproc['date'].values)\n",
    "            y = list(dproc['close'].values)\n",
    "            z = list(dproc['Last_suav_exp'].values)\n",
    "\n",
    "            fig, ax = plt.subplots()\n",
    "            ax.grid(b='on', color='g', linewidth=.5)\n",
    "\n",
    "            plt.title('{} actualizacion aprox 2 min: {:.2f}'.format(currence, y[-1]))\n",
    "\n",
    "            ax.xaxis_date()\n",
    "            \n",
    "            ax.xaxis.set_major_formatter(mdates.DateFormatter('%m/%d'))\n",
    "            \n",
    "            plt.setp(ax.get_xticklabels(), size = 8)\n",
    "            plt.xticks(rotation=45)\n",
    "            ax.plot(x, y, x, z)\n",
    "        \n",
    "        dir_output = currences_pairs[currence].split(';')[1]\n",
    "        nom_file = '{}_{}'.format(tipo, currence)\n",
    "        plt.savefig(os.path.join(dir_output, nom_file))"
   ]
  },
  {
   "cell_type": "code",
   "execution_count": 1,
   "id": "bc64bb9b",
   "metadata": {},
   "outputs": [],
   "source": [
    "import pandas as pd\n",
    "from datetime import datetime\n"
   ]
  },
  {
   "cell_type": "code",
   "execution_count": null,
   "id": "75cbe0cc",
   "metadata": {},
   "outputs": [],
   "source": [
    "frame_graf = pd.read_pickle('../../simultrade/static/datos_graf.pkl')\n",
    "print(frame_graf.shape)\n",
    "frame_graf.tail()"
   ]
  },
  {
   "cell_type": "code",
   "execution_count": null,
   "id": "a4c193c4",
   "metadata": {},
   "outputs": [],
   "source": [
    "frame_graf.head()"
   ]
  },
  {
   "cell_type": "code",
   "execution_count": null,
   "id": "4355a6d0",
   "metadata": {},
   "outputs": [],
   "source": [
    "tiempo_inicio = frame_graf.iloc[0]['X_fec']\n",
    "print(tiempo_inicio)\n"
   ]
  },
  {
   "cell_type": "code",
   "execution_count": null,
   "id": "e591eca9",
   "metadata": {},
   "outputs": [],
   "source": [
    "frame_vals = pd.read_pickle('../../simultrade/static/df_datos.pkl')\n",
    "frame_vals.shape"
   ]
  },
  {
   "cell_type": "code",
   "execution_count": null,
   "id": "9c7865b3",
   "metadata": {
    "scrolled": true
   },
   "outputs": [],
   "source": [
    "valores = frame_vals.loc[frame_vals['date']>=tiempo_inicio]"
   ]
  },
  {
   "cell_type": "code",
   "execution_count": null,
   "id": "2d4b25cd",
   "metadata": {},
   "outputs": [],
   "source": [
    "frame_vals.tail()"
   ]
  },
  {
   "cell_type": "code",
   "execution_count": null,
   "id": "b427aa75",
   "metadata": {},
   "outputs": [],
   "source": [
    "valores.shape"
   ]
  },
  {
   "cell_type": "code",
   "execution_count": null,
   "id": "b3ac2354",
   "metadata": {},
   "outputs": [],
   "source": [
    "def match(j, sxf):\n",
    "    matchind = 0\n",
    "    try:\n",
    "        for i in range(1 + j -1, len(puntos_locat)):\n",
    "            if abs(sxf - puntos_locat[i]) < abs(sxf - puntos_locat[i - 1]):\n",
    "                matchind = puntos_locat[i]\n",
    "            else:\n",
    "                break\n",
    "        return i -1\n",
    "    except:\n",
    "        pass\n",
    "\n",
    "X_fec = frame_graf.X_fec\n",
    "Y_pru = [y for y in frame_graf.Y_pru]\n",
    "mae_res = frame_graf.mae_res\n",
    "\n",
    "\n",
    "\n"
   ]
  },
  {
   "cell_type": "code",
   "execution_count": null,
   "id": "5883a694",
   "metadata": {},
   "outputs": [],
   "source": [
    "\n",
    "# aqui se toman los puntos y su respectiva ubicacion\n",
    "puntos_locat = [datetime.timestamp(z) for z in valores['date']]\n",
    "puntos = [z for z in valores['close']]"
   ]
  },
  {
   "cell_type": "code",
   "execution_count": null,
   "id": "a1ba8c3c",
   "metadata": {},
   "outputs": [],
   "source": [
    "\n",
    "\n",
    "puntos_locat\n"
   ]
  },
  {
   "cell_type": "code",
   "execution_count": null,
   "id": "594ebf80",
   "metadata": {},
   "outputs": [],
   "source": [
    "# ahora hay que pasar X_fec a formato timestamp\n",
    "# para ubicar los puntos en el eje x \n",
    "\n",
    "j = 0\n",
    "puntos_x = []\n",
    "for xf in X_fec:\n",
    "    stam_xf = datetime.timestamp(xf)\n",
    "    puntos_x.append(match(j, stam_xf))\n",
    "    j += 1\n",
    "    if j == len(puntos_locat):\n",
    "        break"
   ]
  },
  {
   "cell_type": "code",
   "execution_count": null,
   "id": "57ce43c5",
   "metadata": {},
   "outputs": [],
   "source": [
    "for xf in X_fec:\n",
    "    print(xf, datetime.timestamp(xf))"
   ]
  },
  {
   "cell_type": "code",
   "execution_count": null,
   "id": "378709ce",
   "metadata": {},
   "outputs": [],
   "source": [
    "x_ftks = [str(xf)[5:16] for xf in X_fec]\n",
    "        "
   ]
  },
  {
   "cell_type": "code",
   "execution_count": null,
   "id": "af723ba2",
   "metadata": {},
   "outputs": [],
   "source": [
    "puntos_x"
   ]
  },
  {
   "cell_type": "code",
   "execution_count": null,
   "id": "19cbdc29",
   "metadata": {},
   "outputs": [],
   "source": [
    "#def __plot_eval(self, X_fec, Y_pru, puntos, mae_res, len_valores, puntos_x):\n",
    "\n",
    "import matplotlib.pyplot as plt\n",
    "from sklearn import metrics\n",
    "import numpy as np\n",
    "\n",
    "len_valores = len(valores)\n",
    "        \n",
    "fig = plt.figure()\n",
    "ax = fig.add_subplot(111)\n",
    "ax.plot(range(len(X_fec)), Y_pru, color='red', linewidth=2)\n",
    "\n",
    "y_ = [y[0] for y in Y_pru]\n",
    "y1 = [a + 2 * b for a, b in zip(y_, mae_res)] \n",
    "\n",
    "y2 = [a - 2 * b for a, b in zip(y_, mae_res)] \n",
    "\n",
    "\n",
    "# eval\n",
    "i = 0\n",
    "for a, b, c in zip(y1, y2, puntos):\n",
    "    if c >= b and c <= a:\n",
    "        i += 1\n",
    "# plt.title('Evalue Model')\n",
    "\n",
    "if len_valores > 10:\n",
    "    y_estm = y_\n",
    "    y_real = puntos[:len(y_)]\n",
    "    #print(f'y_estm: {len(y_estm)}, puntos: {len(puntos)}')\n",
    "\n",
    "    mae = metrics.mean_absolute_error(y_real, y_estm)\n",
    "    plt.title('Prediction to {} - Mean Absolute Error = {} '.format('hola', round( mae, 2))) \n",
    "\n",
    "# # Shade the area between y1 and y2\n",
    "plt.fill_between(X_fec, y1, X_fec,y2,\n",
    "                 facecolor=\"orange\", # The fill color\n",
    "                 color='blue',       # The outline color\n",
    "                 alpha=0.2)          # Transparency of the fill\n",
    "\n",
    "plt.grid(b='on', color='g', linewidth=.5)\n",
    "\n",
    "ax.xaxis.set_ticks(np.arange(0, len(X_fec), len(X_fec)//8))\n",
    "\n",
    "x_ftks = [str(xf)[5:16] for xf in X_fec]\n",
    "x_lbls = [x_ftks[i] for i in np.arange(0, len(X_fec), len(X_fec)//8)]\n",
    "\n",
    "plt.xticks(np.arange(0, len(X_fec), len(X_fec)//8), x_lbls)\n",
    "plt.xticks(rotation=45)\n",
    "\n",
    "scatter muestra valores observados que estan registrados y con fecha posterior a inicio de Prediccion\n",
    "\n",
    "style = dict(size=10, color='blue')\n",
    "ax.text(puntos_x[-1], puntos[-1], round(puntos[-1], 2), **style)\n",
    "\n",
    "plt.scatter(puntos_x, puntos[:len(y_)], s=5, color='g')\n",
    "\n",
    "dir_output = self.dir_data\n",
    "archivo = 'eval_pred_'+self.currence\n",
    "\n",
    "plt.savefig(archivo)\n"
   ]
  },
  {
   "cell_type": "code",
   "execution_count": null,
   "id": "9aeca980",
   "metadata": {},
   "outputs": [],
   "source": [
    "for x, y in zip (puntos_x, puntos[:len(y_)]):\n",
    "    print(x, y)"
   ]
  },
  {
   "cell_type": "code",
   "execution_count": null,
   "id": "049edc3c",
   "metadata": {},
   "outputs": [],
   "source": [
    "\n",
    "if len_valores > 10:\n",
    "    y_estm = y_\n",
    "    y_real = puntos[:len(y_)]\n",
    "    \n",
    "    fig = plt.figure()\n",
    "    ax = fig.add_subplot(111)\n",
    "    ax.plot(X_fec, Y_pru, color='red', linewidth=2)\n",
    "\n",
    "    mae = metrics.mean_absolute_error(y_real, y_estm)\n",
    "    plt.title('Prediction to {} - Mean Absolute Error = {} '.format('hola', round( mae, 2))) \n",
    "\n",
    "    # Shade the area between y1 and y2\n",
    "    plt.fill_between(X_fec, y1, y2,\n",
    "                     facecolor=\"orange\", # The fill color\n",
    "                     color='blue',       # The outline color\n",
    "                     alpha=0.2)          # Transparency of the fill\n",
    "\n",
    "    plt.grid(b='on', color='g', linewidth=.5)\n",
    "###\n",
    "    #ax.xaxis.set_ticks(np.arange(0, len(X_fec), len(X_fec)//8))\n",
    "\n",
    "    #x_ftks = [str(xf)[5:16] for xf in X_fec]\n",
    "    #x_lbls = [x_ftks[i] for i in np.arange(0, len(X_fec), len(X_fec)//8)]\n",
    "\n",
    "    #plt.xticks(np.arange(0, len(X_fec), len(X_fec)//8), x_lbls)\n",
    "    plt.xticks(rotation=45)\n",
    "    \n",
    "    plt.scatter(X_fec, puntos[:len(y_)], s=5, color='g')\n",
    "    \n",
    "    "
   ]
  },
  {
   "cell_type": "code",
   "execution_count": null,
   "id": "120876c6",
   "metadata": {},
   "outputs": [],
   "source": [
    "style = dict(size=10, color='blue')\n",
    "ax.text(puntos_x[-1], puntos[-1], round(puntos[-1], 2), **style)\n",
    "\n",
    "ax.xaxis.set_ticks(np.arange(0, len(X_fec), len(X_fec)//8))\n",
    "\n",
    "x_ftks = [str(xf)[5:16] for xf in X_fec]\n",
    "x_lbls = [x_ftks[i] for i in np.arange(0, len(X_fec), len(X_fec)//8)]\n",
    "\n",
    "plt.xticks(np.arange(0, len(X_fec), len(X_fec)//8), x_lbls)\n",
    "plt.xticks(rotation=45)\n",
    "plt.grid(b='on', color='g', linewidth=.5)\n",
    "\n",
    "#plt.scatter(puntos_x, puntos[:len(y_)], s=5, color='g')\n",
    "plt.scatter(X_fec, puntos[:len(y_)], s=5, color='g')\n",
    "\n",
    "\n",
    "\n"
   ]
  },
  {
   "cell_type": "code",
   "execution_count": null,
   "id": "33773d50",
   "metadata": {},
   "outputs": [],
   "source": [
    "#inicio = datetime.fromtimestamp(Xset['time'].values[-1]//1000)\n",
    "\n",
    "inicio = datetime.strptime(\"2022-01-28 03:50:59\", '%Y-%m-%d %H:%M:%S')\n",
    "\n",
    "\n",
    "X_fec = pd.date_range(inicio, periods=10, freq='1min')\n",
    "\n",
    "X_fec"
   ]
  },
  {
   "cell_type": "code",
   "execution_count": null,
   "id": "75c15dcd",
   "metadata": {},
   "outputs": [],
   "source": [
    "Xset = pd.read_pickle('../../simultrade/static/Xset.pkl')\n",
    "Xset.shape"
   ]
  },
  {
   "cell_type": "code",
   "execution_count": null,
   "id": "aa32f54c",
   "metadata": {},
   "outputs": [],
   "source": [
    "Xset.head()"
   ]
  },
  {
   "cell_type": "code",
   "execution_count": null,
   "id": "4a8e7e2d",
   "metadata": {},
   "outputs": [],
   "source": [
    "Xset.tail()"
   ]
  },
  {
   "cell_type": "code",
   "execution_count": null,
   "id": "596d5f7b",
   "metadata": {},
   "outputs": [],
   "source": [
    "datetime.fromtimestamp(Xset['time'].values[-1]//1000)"
   ]
  },
  {
   "cell_type": "code",
   "execution_count": 8,
   "id": "2f7839ea",
   "metadata": {},
   "outputs": [
    {
     "data": {
      "text/plain": [
       "(24, 4)"
      ]
     },
     "execution_count": 8,
     "metadata": {},
     "output_type": "execute_result"
    }
   ],
   "source": [
    "regres_result = pd.read_pickle('../../../simultrade/static/regres_result.pkl')\n",
    "regres_result.shape"
   ]
  },
  {
   "cell_type": "code",
   "execution_count": null,
   "id": "0ad20627",
   "metadata": {},
   "outputs": [],
   "source": [
    "regres_result"
   ]
  },
  {
   "cell_type": "code",
   "execution_count": 9,
   "id": "9222f0c0",
   "metadata": {},
   "outputs": [],
   "source": [
    "import matplotlib.pyplot as plt"
   ]
  },
  {
   "cell_type": "code",
   "execution_count": 10,
   "id": "35650a37",
   "metadata": {},
   "outputs": [
    {
     "data": {
      "text/plain": [
       "[<matplotlib.lines.Line2D at 0x7f569f2d86d0>]"
      ]
     },
     "execution_count": 10,
     "metadata": {},
     "output_type": "execute_result"
    },
    {
     "data": {
      "image/png": "[encoded data removed]",
      "text/plain": [
       "<Figure size 432x288 with 1 Axes>"
      ]
     },
     "metadata": {
      "needs_background": "light"
     },
     "output_type": "display_data"
    }
   ],
   "source": [
    "x = regres_result.num_obs\n",
    "y = regres_result.RootMSErr\n",
    "z = regres_result.MAE\n",
    "\n",
    "fig = plt.figure()\n",
    "ax = fig.add_subplot(111)\n",
    "plt.plot(x, y)\n",
    "plt.plot(x, z)"
   ]
  },
  {
   "cell_type": "code",
   "execution_count": null,
   "id": "8e23f084",
   "metadata": {},
   "outputs": [],
   "source": [
    "X = Xset['time'].values.reshape(-1,1)\n",
    "\n",
    "inicio = datetime.fromtimestamp(Xset['time'].values[-1]//1000)\n",
    "\n",
    "print(inicio, X.shape)"
   ]
  },
  {
   "cell_type": "code",
   "execution_count": null,
   "id": "b72d4962",
   "metadata": {},
   "outputs": [],
   "source": [
    "X = Xset['time'].values.reshape(-1,1)\n",
    "len(X)"
   ]
  },
  {
   "cell_type": "code",
   "execution_count": null,
   "id": "65ab3aba",
   "metadata": {},
   "outputs": [],
   "source": [
    "\n",
    "X_fec = pd.date_range(inicio, periods=2*len(X), freq='1min')\n"
   ]
  },
  {
   "cell_type": "code",
   "execution_count": null,
   "id": "6e1bbe9a",
   "metadata": {},
   "outputs": [],
   "source": [
    "X_fec[-1]"
   ]
  },
  {
   "cell_type": "code",
   "execution_count": null,
   "id": "d092156c",
   "metadata": {},
   "outputs": [],
   "source": [
    "\n",
    "\n"
   ]
  },
  {
   "cell_type": "code",
   "execution_count": null,
   "id": "6d51a57e",
   "metadata": {},
   "outputs": [],
   "source": [
    "result = pd.read_pickle('../../simultrade/static/resultado.pkl')\n",
    "result.shape"
   ]
  },
  {
   "cell_type": "code",
   "execution_count": null,
   "id": "a1773e26",
   "metadata": {},
   "outputs": [],
   "source": [
    "pd.options.display.float_format = '{:.8f}'.format\n",
    "result.loc[result.val_extrm.notna()].loc[result.last_extrm.notna()]"
   ]
  },
  {
   "cell_type": "code",
   "execution_count": null,
   "id": "6447c45d",
   "metadata": {},
   "outputs": [],
   "source": [
    "result.loc[result.val_extrm.notna()]"
   ]
  },
  {
   "cell_type": "code",
   "execution_count": null,
   "id": "a76fbce5",
   "metadata": {},
   "outputs": [],
   "source": [
    "result.loc[result.last_extrm > 0]"
   ]
  },
  {
   "cell_type": "code",
   "execution_count": null,
   "id": "ad8d2712",
   "metadata": {},
   "outputs": [],
   "source": [
    "from matplotlib import rcParams\n",
    "rcParams['figure.figsize'] = 15, 5\n",
    "import matplotlib.pyplot as plt\n",
    "\n",
    "\n",
    "x = result.loc[result.last_extrm > 0]['time'][:10]\n",
    "y = result.loc[result.last_extrm > 0]['val_extrm'][:10]\n",
    "\n",
    "fig = plt.figure()\n",
    "ax = fig.add_subplot(111)\n",
    "plt.plot(x, y)"
   ]
  },
  {
   "cell_type": "markdown",
   "id": "c0aa2b75",
   "metadata": {},
   "source": [
    "def calc_recta(x1, x2, y1, y2):\n",
    "\n",
    "    m = ( y2 - y1 ) / ( x2 - x1 )\n",
    "    b = y2 - (m * x2)\n",
    "    return b, m"
   ]
  },
  {
   "cell_type": "code",
   "execution_count": null,
   "id": "b35a0054",
   "metadata": {},
   "outputs": [],
   "source": [
    "# analisis de duracion de tendencia lineal de resultados\n",
    "\n",
    "\n",
    "durac_lineal = result.loc[result.last_extrm > 0][['time', 'last_extrm']]\n",
    "\n",
    "durac_lineal.time = durac_lineal.time.astype(int)\n",
    "\n",
    "durac_lineal['durac'] = durac_lineal.time.diff()\n",
    "\n",
    "durac_lineal['pendte'] = durac_lineal.last_extrm.diff() / durac_lineal.time.diff()\n",
    "\n",
    "durac_lineal"
   ]
  },
  {
   "cell_type": "code",
   "execution_count": null,
   "id": "6804def7",
   "metadata": {},
   "outputs": [],
   "source": [
    "x = durac_lineal.pendte[1:]\n",
    "y = durac_lineal.durac[1:]\n",
    "\n",
    "fig = plt.figure()\n",
    "ax = fig.add_subplot(111)\n",
    "\n",
    "plt.scatter(x, y, s=5, color='g')"
   ]
  },
  {
   "cell_type": "code",
   "execution_count": null,
   "id": "0b40b28d",
   "metadata": {},
   "outputs": [],
   "source": [
    "for i, x in enumerate(durac_lineal.values):\n",
    "    print(x[0])"
   ]
  },
  {
   "cell_type": "code",
   "execution_count": null,
   "id": "3c677a92",
   "metadata": {},
   "outputs": [],
   "source": [
    "# maximos\n",
    "result.loc[result.val_extrm > 0].loc[result.last_extrm > 0][['cross_cero','last_extrm']]"
   ]
  },
  {
   "cell_type": "code",
   "execution_count": null,
   "id": "468a5396",
   "metadata": {},
   "outputs": [],
   "source": [
    "# minimos\n",
    "result.loc[result.val_extrm < 0].loc[result.last_extrm > 0][['cross_cero','last_extrm']]"
   ]
  },
  {
   "cell_type": "code",
   "execution_count": 20,
   "id": "1b4fc9f8",
   "metadata": {
    "scrolled": false
   },
   "outputs": [],
   "source": [
    "class A:\n",
    "    def __init__(self):\n",
    "        self.asi = 20\n",
    "\n",
    "class B(A):\n",
    "    def __init__(self):\n",
    "        self.te = 30\n",
    "\n"
   ]
  },
  {
   "cell_type": "code",
   "execution_count": 23,
   "id": "8e392506",
   "metadata": {},
   "outputs": [
    {
     "name": "stdout",
     "output_type": "stream",
     "text": [
      "20\n"
     ]
    },
    {
     "ename": "RuntimeError",
     "evalue": "super(): no arguments",
     "output_type": "error",
     "traceback": [
      "\u001b[0;31m---------------------------------------------------------------------------\u001b[0m",
      "\u001b[0;31mRuntimeError\u001b[0m                              Traceback (most recent call last)",
      "\u001b[0;32m/tmp/ipykernel_12814/3766805175.py\u001b[0m in \u001b[0;36m<module>\u001b[0;34m\u001b[0m\n\u001b[1;32m      3\u001b[0m \u001b[0;34m\u001b[0m\u001b[0m\n\u001b[1;32m      4\u001b[0m \u001b[0mb\u001b[0m \u001b[0;34m=\u001b[0m \u001b[0mB\u001b[0m\u001b[0;34m(\u001b[0m\u001b[0;34m)\u001b[0m\u001b[0;34m\u001b[0m\u001b[0;34m\u001b[0m\u001b[0m\n\u001b[0;32m----> 5\u001b[0;31m \u001b[0mprint\u001b[0m\u001b[0;34m(\u001b[0m\u001b[0msuper\u001b[0m\u001b[0;34m(\u001b[0m\u001b[0;34m)\u001b[0m\u001b[0;34m.\u001b[0m\u001b[0masi\u001b[0m\u001b[0;34m)\u001b[0m\u001b[0;34m\u001b[0m\u001b[0;34m\u001b[0m\u001b[0m\n\u001b[0m",
      "\u001b[0;31mRuntimeError\u001b[0m: super(): no arguments"
     ]
    }
   ],
   "source": [
    "a = A()\n",
    "print(a.asi)\n",
    "\n",
    "b = B()\n",
    "print(super().asi)\n"
   ]
  }
 ],
 "metadata": {
  "kernelspec": {
   "display_name": "Python 3 (ipykernel)",
   "language": "python",
   "name": "python3"
  },
  "language_info": {
   "codemirror_mode": {
    "name": "ipython",
    "version": 3
   },
   "file_extension": ".py",
   "mimetype": "text/x-python",
   "name": "python",
   "nbconvert_exporter": "python",
   "pygments_lexer": "ipython3",
   "version": "3.9.7"
  }
 },
 "nbformat": 4,
 "nbformat_minor": 5
}
