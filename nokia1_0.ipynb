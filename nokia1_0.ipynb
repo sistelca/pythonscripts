{
 "cells": [
  {
   "cell_type": "code",
   "execution_count": 1,
   "metadata": {},
   "outputs": [],
   "source": [
    "from pyxlsb2 import open_workbook\n",
    "import random"
   ]
  },
  {
   "cell_type": "code",
   "execution_count": 2,
   "metadata": {},
   "outputs": [],
   "source": [
    "wb = open_workbook('CPO_Report_03012021.xlsb')\n"
   ]
  },
  {
   "cell_type": "code",
   "execution_count": 16,
   "metadata": {},
   "outputs": [
    {
     "name": "stdout",
     "output_type": "stream",
     "text": [
      "4901163237L1 is not in list\n"
     ]
    }
   ],
   "source": [
    "# Take any random POconcatenate column value from the Current Tab\n",
    "\n",
    "list_Cct=[]\n",
    "\n",
    "with wb.get_sheet_by_name('Current ') as sheet:\n",
    "    for item in sheet.rows():\n",
    "        list_Cct.append(item[0].v)\n",
    "            \n",
    "value = random.choice(list_Cct)\n",
    "\n",
    "# and search for it in the MasterData Tab.\n",
    "\n",
    "list_Mtd = []\n",
    "\n",
    "with wb.get_sheet_by_name('Master Data') as sheet:\n",
    "    for item in sheet.rows():\n",
    "        list_Cct.append(item[0].v)\n",
    "        \n",
    "try:\n",
    "    print(list_Mtd.index(value))\n",
    "    # Clear Current tab data from line 3 down to end\n",
    "    with wb.get_sheet_by_name('Current ') as sheet:\n",
    "        for item in sheet.rows():\n",
    "            if \n",
    "            list_Cct.append(item[0].v)\n",
    "    \n",
    "except:\n",
    "    print(f\"{value} is not in list\")"
   ]
  },
  {
   "cell_type": "code",
   "execution_count": 23,
   "metadata": {},
   "outputs": [
    {
     "name": "stdout",
     "output_type": "stream",
     "text": [
      "357\n",
      "357\n",
      "325\n",
      "326\n",
      "326\n",
      "326\n",
      "326\n",
      "325\n",
      "325\n",
      "325\n"
     ]
    }
   ],
   "source": [
    "with wb.get_sheet_by_name('Current ') as sheet:\n",
    "    i = 1\n",
    "    for item in sheet.rows():\n",
    "        print(len(item))\n",
    "        i += 1\n",
    "        if i > 10:\n",
    "            break"
   ]
  },
  {
   "cell_type": "code",
   "execution_count": 26,
   "metadata": {},
   "outputs": [],
   "source": [
    "import xlsxwriter\n",
    "\n",
    "workbook = xlsxwriter.Workbook('CPO_Report_03012021.xlsb')\n",
    "#worksheet = workbook.worksheet('Current ')\n",
    "worksheet = workbook.add_worksheet()"
   ]
  }
 ],
 "metadata": {
  "kernelspec": {
   "display_name": "Python 3",
   "language": "python",
   "name": "python3"
  },
  "language_info": {
   "codemirror_mode": {
    "name": "ipython",
    "version": 3
   },
   "file_extension": ".py",
   "mimetype": "text/x-python",
   "name": "python",
   "nbconvert_exporter": "python",
   "pygments_lexer": "ipython3",
   "version": "3.8.5"
  }
 },
 "nbformat": 4,
 "nbformat_minor": 2
}
