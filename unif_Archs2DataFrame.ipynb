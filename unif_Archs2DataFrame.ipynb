{
 "cells": [
  {
   "cell_type": "code",
   "execution_count": 111,
   "id": "5f72f71a",
   "metadata": {},
   "outputs": [],
   "source": [
    "import pandas as pd\n",
    "import os"
   ]
  },
  {
   "cell_type": "code",
   "execution_count": 136,
   "id": "bf8362e2",
   "metadata": {},
   "outputs": [
    {
     "data": {
      "text/plain": [
       "['alpha_CEO191_julio.csv',\n",
       " 'alpha_CEO191_octubre.csv',\n",
       " 'alpha_CEO192_julio.csv',\n",
       " 'alpha_CEO194_julio.csv',\n",
       " 'alpha_CEO194_octubre.csv',\n",
       " 'pantec_ceo192_noviembre.csv',\n",
       " 'pantec_CEO192_octubre.csv',\n",
       " 'pantec_ceo213_noviembr.csv',\n",
       " 'pantec_CEO213_octubre.csv']"
      ]
     },
     "execution_count": 136,
     "metadata": {},
     "output_type": "execute_result"
    }
   ],
   "source": [
    "archivos = [file for file in os.listdir('datos') if '.csv' in file]\n",
    "archivos"
   ]
  },
  {
   "cell_type": "code",
   "execution_count": 137,
   "id": "0bffd007",
   "metadata": {},
   "outputs": [],
   "source": [
    "def lea_rchivo(file):\n",
    "    with open(os.path.join('datos', file), 'r') as file:\n",
    "\n",
    "        nombre = ''\n",
    "        columnas = []\n",
    "        datos = []\n",
    "        \n",
    "        i = 0\n",
    "        for linea in file:\n",
    "            if i == 0:\n",
    "                nombre = linea.split(';')[0]\n",
    "                nombre = nombre.replace(' ', '_')\n",
    "            elif i == 1:\n",
    "                columnas = linea.replace('\\n', '').split(';')\n",
    "            else:\n",
    "                datos.append(linea.replace('\\n', '').split(';'))\n",
    "        \n",
    "            i += 1\n",
    "\n",
    "        return (nombre, columnas, datos)\n"
   ]
  },
  {
   "cell_type": "code",
   "execution_count": 138,
   "id": "2bcd57cf",
   "metadata": {},
   "outputs": [],
   "source": [
    "def crear_df(file):\n",
    "\n",
    "    nombre, columnas, datos = lea_rchivo(file)\n",
    "    df_name = nombre\n",
    "    df_cols = columnas\n",
    "    data = datos\n",
    "    \n",
    "    df = pd.DataFrame(data, columns=df_cols)\n",
    "    df[df_cols[0]] = pd.to_datetime(df[df_cols[0]], dayfirst=True)\n",
    "    \n",
    "    for i in range(1, len(df_cols[1:])+1):\n",
    "        df[df_cols[i]] = pd.to_numeric(df[df_cols[i]], errors='coerce')\n",
    "    \n",
    "    df['ubicacion'] = df_name\n",
    "    \n",
    "    return df"
   ]
  },
  {
   "cell_type": "code",
   "execution_count": 139,
   "id": "9a3768fc",
   "metadata": {},
   "outputs": [
    {
     "name": "stdout",
     "output_type": "stream",
     "text": [
      "alpha_CEO191_julio.csv\n",
      "alpha_CEO191_octubre.csv\n",
      "alpha_CEO192_julio.csv\n",
      "alpha_CEO194_julio.csv\n",
      "alpha_CEO194_octubre.csv\n",
      "pantec_ceo192_noviembre.csv\n",
      "pantec_CEO192_octubre.csv\n",
      "pantec_ceo213_noviembr.csv\n",
      "pantec_CEO213_octubre.csv\n"
     ]
    }
   ],
   "source": [
    "df_master = pd.DataFrame()\n",
    "\n",
    "for archivo in archivos:\n",
    "    print(archivo)\n",
    "    df = crear_df(archivo)\n",
    "    df_master = pd.concat([df_master, df], ignore_index=True)"
   ]
  },
  {
   "cell_type": "code",
   "execution_count": 141,
   "id": "1f650ce4",
   "metadata": {},
   "outputs": [
    {
     "data": {
      "text/html": [
       "<div>\n",
       "<style scoped>\n",
       "    .dataframe tbody tr th:only-of-type {\n",
       "        vertical-align: middle;\n",
       "    }\n",
       "\n",
       "    .dataframe tbody tr th {\n",
       "        vertical-align: top;\n",
       "    }\n",
       "\n",
       "    .dataframe thead th {\n",
       "        text-align: right;\n",
       "    }\n",
       "</style>\n",
       "<table border=\"1\" class=\"dataframe\">\n",
       "  <thead>\n",
       "    <tr style=\"text-align: right;\">\n",
       "      <th></th>\n",
       "      <th>Fecha</th>\n",
       "      <th>PM10 (?g/m³)</th>\n",
       "      <th>PM2.5 (?g/m³)</th>\n",
       "      <th>PM1 (?g/m³)</th>\n",
       "      <th>Temperatura ambiente (Celsius)</th>\n",
       "      <th>Humedad Relativa (%)</th>\n",
       "      <th>ubicacion</th>\n",
       "    </tr>\n",
       "  </thead>\n",
       "  <tbody>\n",
       "    <tr>\n",
       "      <th>5256</th>\n",
       "      <td>2021-10-31 19:00:00</td>\n",
       "      <td>26.070</td>\n",
       "      <td>7.407</td>\n",
       "      <td>3.819</td>\n",
       "      <td>22.996</td>\n",
       "      <td>42.046</td>\n",
       "      <td>PAANTEC_SDA_CE0213</td>\n",
       "    </tr>\n",
       "    <tr>\n",
       "      <th>5257</th>\n",
       "      <td>2021-10-31 20:00:00</td>\n",
       "      <td>23.557</td>\n",
       "      <td>8.002</td>\n",
       "      <td>4.426</td>\n",
       "      <td>23.142</td>\n",
       "      <td>61.452</td>\n",
       "      <td>PAANTEC_SDA_CE0213</td>\n",
       "    </tr>\n",
       "    <tr>\n",
       "      <th>5258</th>\n",
       "      <td>2021-10-31 21:00:00</td>\n",
       "      <td>16.644</td>\n",
       "      <td>7.165</td>\n",
       "      <td>4.394</td>\n",
       "      <td>22.695</td>\n",
       "      <td>52.603</td>\n",
       "      <td>PAANTEC_SDA_CE0213</td>\n",
       "    </tr>\n",
       "    <tr>\n",
       "      <th>5259</th>\n",
       "      <td>2021-10-31 22:00:00</td>\n",
       "      <td>18.129</td>\n",
       "      <td>8.069</td>\n",
       "      <td>4.899</td>\n",
       "      <td>23.037</td>\n",
       "      <td>52.275</td>\n",
       "      <td>PAANTEC_SDA_CE0213</td>\n",
       "    </tr>\n",
       "    <tr>\n",
       "      <th>5260</th>\n",
       "      <td>2021-10-31 23:00:00</td>\n",
       "      <td>18.606</td>\n",
       "      <td>8.226</td>\n",
       "      <td>5.321</td>\n",
       "      <td>23.452</td>\n",
       "      <td>37.884</td>\n",
       "      <td>PAANTEC_SDA_CE0213</td>\n",
       "    </tr>\n",
       "  </tbody>\n",
       "</table>\n",
       "</div>"
      ],
      "text/plain": [
       "                   Fecha  PM10 (?g/m³)  PM2.5 (?g/m³)  PM1 (?g/m³)  \\\n",
       "5256 2021-10-31 19:00:00        26.070          7.407        3.819   \n",
       "5257 2021-10-31 20:00:00        23.557          8.002        4.426   \n",
       "5258 2021-10-31 21:00:00        16.644          7.165        4.394   \n",
       "5259 2021-10-31 22:00:00        18.129          8.069        4.899   \n",
       "5260 2021-10-31 23:00:00        18.606          8.226        5.321   \n",
       "\n",
       "      Temperatura ambiente (Celsius)  Humedad Relativa (%)           ubicacion  \n",
       "5256                          22.996                42.046  PAANTEC_SDA_CE0213  \n",
       "5257                          23.142                61.452  PAANTEC_SDA_CE0213  \n",
       "5258                          22.695                52.603  PAANTEC_SDA_CE0213  \n",
       "5259                          23.037                52.275  PAANTEC_SDA_CE0213  \n",
       "5260                          23.452                37.884  PAANTEC_SDA_CE0213  "
      ]
     },
     "execution_count": 141,
     "metadata": {},
     "output_type": "execute_result"
    }
   ],
   "source": [
    "df_master.tail()"
   ]
  },
  {
   "cell_type": "code",
   "execution_count": 140,
   "id": "d6759b31",
   "metadata": {},
   "outputs": [
    {
     "name": "stdout",
     "output_type": "stream",
     "text": [
      "<class 'pandas.core.frame.DataFrame'>\n",
      "RangeIndex: 5261 entries, 0 to 5260\n",
      "Data columns (total 7 columns):\n",
      " #   Column                          Non-Null Count  Dtype         \n",
      "---  ------                          --------------  -----         \n",
      " 0   Fecha                           5261 non-null   datetime64[ns]\n",
      " 1   PM10 (?g/m³)                    5258 non-null   float64       \n",
      " 2   PM2.5 (?g/m³)                   5259 non-null   float64       \n",
      " 3   PM1 (?g/m³)                     5255 non-null   float64       \n",
      " 4   Temperatura ambiente (Celsius)  5258 non-null   float64       \n",
      " 5   Humedad Relativa (%)            5258 non-null   float64       \n",
      " 6   ubicacion                       5261 non-null   object        \n",
      "dtypes: datetime64[ns](1), float64(5), object(1)\n",
      "memory usage: 287.8+ KB\n"
     ]
    }
   ],
   "source": [
    "df_master.info()"
   ]
  }
 ],
 "metadata": {
  "kernelspec": {
   "display_name": "Python 3 (ipykernel)",
   "language": "python",
   "name": "python3"
  },
  "language_info": {
   "codemirror_mode": {
    "name": "ipython",
    "version": 3
   },
   "file_extension": ".py",
   "mimetype": "text/x-python",
   "name": "python",
   "nbconvert_exporter": "python",
   "pygments_lexer": "ipython3",
   "version": "3.8.12"
  }
 },
 "nbformat": 4,
 "nbformat_minor": 5
}
