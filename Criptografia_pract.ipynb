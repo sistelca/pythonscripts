{
 "cells": [
  {
   "cell_type": "markdown",
   "id": "5f6b1d8b",
   "metadata": {},
   "source": [
    "Generate OpenSSL RSA Key Pair from the Command Line\n",
    "\n",
    "https://rietta.com/blog/openssl-generating-rsa-key-from-command/\n",
    "\n",
    "openssl genrsa -des3 -out private.pem 2048\n",
    "\n",
    "openssl rsa -in private.pem -out public.pem -outform PEM"
   ]
  },
  {
   "cell_type": "code",
   "execution_count": 2,
   "id": "b15b8cbc",
   "metadata": {},
   "outputs": [],
   "source": [
    "from Crypto.Cipher import PKCS1_OAEP\n",
    "from Crypto.PublicKey import RSA\n",
    "import base64\n",
    "\n",
    "def encrypt_with_public_key(a_message, public_key):\n",
    "    encryptor = PKCS1_OAEP.new(public_key)\n",
    "    encrypted_msg = encryptor.encrypt(a_message)\n",
    "    encoded_encrypted_msg = base64.b64encode(encrypted_msg)\n",
    "    return encoded_encrypted_msg"
   ]
  },
  {
   "cell_type": "code",
   "execution_count": 13,
   "id": "930e6c15",
   "metadata": {},
   "outputs": [],
   "source": [
    "key = RSA.import_key(open('/home/luis/Documents/datasets/public.pem').read())      # add the key import with import_key() or importKey()\n",
    "byte_message = b'Luis Alberto Castillo Sanchez'\n",
    "\n"
   ]
  },
  {
   "cell_type": "code",
   "execution_count": 6,
   "id": "295868c6",
   "metadata": {},
   "outputs": [
    {
     "name": "stdout",
     "output_type": "stream",
     "text": [
      "TzOQEmzxTcURkqUVjHoDQ85+FPW+vi3aJjEMzq5SqXZpc7PEy64Jlv2L7G5uomqbQHsEEGek9hUAlq8mK0cgMoZSQPaD5v1PC4MhaWaUIgk8GqdzTycVZWTbSHzZX3fCN1qnS/AKYSv4FpkhLtRNFWfAvd/j1CfuPwPcbLi+QIcccvfQhlsfcKjMgokAmGgWaGk82eEsvhGZFwh8Zc6Je3IXW5GPFjjXcAR3JcHEc55kqZtYHFyfRV3sf9UAj43xWUaQyHpkgzDGTe6cwtU/BWUtfPEkvkKGBgxhkv6Vwh9cEdWLJNtxOP6RPPh2sSZ7LwEbYB478cOfnYvz6siw9Q==\n"
     ]
    }
   ],
   "source": [
    "encoded_encrypted_msg = encrypt_with_public_key(byte_message, key)\n",
    "print(encoded_encrypted_msg.decode('utf-8'))\n"
   ]
  },
  {
   "cell_type": "code",
   "execution_count": 9,
   "id": "45862b15",
   "metadata": {},
   "outputs": [],
   "source": [
    "key = RSA.importKey(open('/home/luis/Documents/datasets/private.pem').read(), \n",
    "                    passphrase='luis')\n",
    "cipher = PKCS1_OAEP.new(key)\n",
    "message = cipher.decrypt(base64.b64decode(encoded_encrypted_msg))"
   ]
  },
  {
   "cell_type": "code",
   "execution_count": 11,
   "id": "e6d455b3",
   "metadata": {},
   "outputs": [
    {
     "name": "stdout",
     "output_type": "stream",
     "text": [
      "b'Luis Alberto Castillo Sanchez'\n"
     ]
    }
   ],
   "source": [
    "print(str(message))"
   ]
  },
  {
   "cell_type": "code",
   "execution_count": null,
   "id": "f8d47364",
   "metadata": {},
   "outputs": [],
   "source": [
    "munecos = \"\"\"universe young energy // airport begin casino // erode magnet yard // drip vocal blur\"\"\""
   ]
  }
 ],
 "metadata": {
  "kernelspec": {
   "display_name": "Python 3",
   "language": "python",
   "name": "python3"
  },
  "language_info": {
   "codemirror_mode": {
    "name": "ipython",
    "version": 3
   },
   "file_extension": ".py",
   "mimetype": "text/x-python",
   "name": "python",
   "nbconvert_exporter": "python",
   "pygments_lexer": "ipython3",
   "version": "3.8.8"
  }
 },
 "nbformat": 4,
 "nbformat_minor": 5
}
