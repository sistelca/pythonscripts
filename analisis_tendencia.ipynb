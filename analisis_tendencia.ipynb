{
 "cells": [
  {
   "cell_type": "code",
   "execution_count": 1,
   "id": "30131c0a",
   "metadata": {},
   "outputs": [],
   "source": [
    "import pandas as pd\n",
    "from datetime import datetime\n",
    "\n",
    "from matplotlib import rcParams\n",
    "rcParams['figure.figsize'] = 15, 5\n",
    "import matplotlib.pyplot as plt"
   ]
  },
  {
   "cell_type": "code",
   "execution_count": 37,
   "id": "fc5b52c5",
   "metadata": {},
   "outputs": [
    {
     "data": {
      "text/plain": [
       "(1438, 7)"
      ]
     },
     "execution_count": 37,
     "metadata": {},
     "output_type": "execute_result"
    }
   ],
   "source": [
    "result = pd.read_pickle('../../simultrade/static/resultado.pkl')\n",
    "result.shape"
   ]
  },
  {
   "cell_type": "code",
   "execution_count": 38,
   "id": "05754be0",
   "metadata": {},
   "outputs": [
    {
     "data": {
      "text/html": [
       "<div>\n",
       "<style scoped>\n",
       "    .dataframe tbody tr th:only-of-type {\n",
       "        vertical-align: middle;\n",
       "    }\n",
       "\n",
       "    .dataframe tbody tr th {\n",
       "        vertical-align: top;\n",
       "    }\n",
       "\n",
       "    .dataframe thead th {\n",
       "        text-align: right;\n",
       "    }\n",
       "</style>\n",
       "<table border=\"1\" class=\"dataframe\">\n",
       "  <thead>\n",
       "    <tr style=\"text-align: right;\">\n",
       "      <th></th>\n",
       "      <th>valor</th>\n",
       "      <th>tiempo</th>\n",
       "      <th>cross_cero</th>\n",
       "      <th>last</th>\n",
       "      <th>time</th>\n",
       "      <th>val_extrm</th>\n",
       "      <th>last_extrm</th>\n",
       "    </tr>\n",
       "  </thead>\n",
       "  <tbody>\n",
       "    <tr>\n",
       "      <th>0</th>\n",
       "      <td>-0.001375</td>\n",
       "      <td>2022-02-14 14:32:59.999000</td>\n",
       "      <td>0.0</td>\n",
       "      <td>2947.77</td>\n",
       "      <td>1.644849e+12</td>\n",
       "      <td>-0.001375</td>\n",
       "      <td>2920.57</td>\n",
       "    </tr>\n",
       "    <tr>\n",
       "      <th>91</th>\n",
       "      <td>0.000018</td>\n",
       "      <td>2022-02-14 16:03:59.999000</td>\n",
       "      <td>1.0</td>\n",
       "      <td>2942.54</td>\n",
       "      <td>1.644855e+12</td>\n",
       "      <td>0.000018</td>\n",
       "      <td>2942.57</td>\n",
       "    </tr>\n",
       "    <tr>\n",
       "      <th>93</th>\n",
       "      <td>-0.000036</td>\n",
       "      <td>2022-02-14 16:05:59.999000</td>\n",
       "      <td>2.0</td>\n",
       "      <td>2937.80</td>\n",
       "      <td>1.644855e+12</td>\n",
       "      <td>-0.000036</td>\n",
       "      <td>2937.80</td>\n",
       "    </tr>\n",
       "    <tr>\n",
       "      <th>94</th>\n",
       "      <td>0.000009</td>\n",
       "      <td>2022-02-14 16:06:59.999000</td>\n",
       "      <td>3.0</td>\n",
       "      <td>2941.76</td>\n",
       "      <td>1.644855e+12</td>\n",
       "      <td>0.000009</td>\n",
       "      <td>2941.76</td>\n",
       "    </tr>\n",
       "    <tr>\n",
       "      <th>102</th>\n",
       "      <td>-0.000065</td>\n",
       "      <td>2022-02-14 16:14:59.999000</td>\n",
       "      <td>4.0</td>\n",
       "      <td>2934.71</td>\n",
       "      <td>1.644855e+12</td>\n",
       "      <td>-0.000065</td>\n",
       "      <td>2934.71</td>\n",
       "    </tr>\n",
       "    <tr>\n",
       "      <th>...</th>\n",
       "      <td>...</td>\n",
       "      <td>...</td>\n",
       "      <td>...</td>\n",
       "      <td>...</td>\n",
       "      <td>...</td>\n",
       "      <td>...</td>\n",
       "      <td>...</td>\n",
       "    </tr>\n",
       "    <tr>\n",
       "      <th>1340</th>\n",
       "      <td>0.000128</td>\n",
       "      <td>2022-02-15 12:52:59.999000</td>\n",
       "      <td>93.0</td>\n",
       "      <td>3113.20</td>\n",
       "      <td>1.644930e+12</td>\n",
       "      <td>0.000128</td>\n",
       "      <td>3119.00</td>\n",
       "    </tr>\n",
       "    <tr>\n",
       "      <th>1374</th>\n",
       "      <td>-0.000094</td>\n",
       "      <td>2022-02-15 13:26:59.999000</td>\n",
       "      <td>94.0</td>\n",
       "      <td>3100.00</td>\n",
       "      <td>1.644932e+12</td>\n",
       "      <td>-0.000094</td>\n",
       "      <td>3100.00</td>\n",
       "    </tr>\n",
       "    <tr>\n",
       "      <th>1379</th>\n",
       "      <td>0.000001</td>\n",
       "      <td>2022-02-15 13:31:59.999000</td>\n",
       "      <td>95.0</td>\n",
       "      <td>3108.03</td>\n",
       "      <td>1.644932e+12</td>\n",
       "      <td>0.000001</td>\n",
       "      <td>3108.03</td>\n",
       "    </tr>\n",
       "    <tr>\n",
       "      <th>1387</th>\n",
       "      <td>-0.000096</td>\n",
       "      <td>2022-02-15 13:39:59.999000</td>\n",
       "      <td>96.0</td>\n",
       "      <td>3097.49</td>\n",
       "      <td>1.644932e+12</td>\n",
       "      <td>-0.000096</td>\n",
       "      <td>3097.49</td>\n",
       "    </tr>\n",
       "    <tr>\n",
       "      <th>1429</th>\n",
       "      <td>0.000228</td>\n",
       "      <td>2022-02-15 14:21:59.999000</td>\n",
       "      <td>97.0</td>\n",
       "      <td>3137.26</td>\n",
       "      <td>1.644935e+12</td>\n",
       "      <td>0.000228</td>\n",
       "      <td>3137.26</td>\n",
       "    </tr>\n",
       "  </tbody>\n",
       "</table>\n",
       "<p>98 rows × 7 columns</p>\n",
       "</div>"
      ],
      "text/plain": [
       "         valor                      tiempo  cross_cero     last          time  \\\n",
       "0    -0.001375  2022-02-14 14:32:59.999000         0.0  2947.77  1.644849e+12   \n",
       "91    0.000018  2022-02-14 16:03:59.999000         1.0  2942.54  1.644855e+12   \n",
       "93   -0.000036  2022-02-14 16:05:59.999000         2.0  2937.80  1.644855e+12   \n",
       "94    0.000009  2022-02-14 16:06:59.999000         3.0  2941.76  1.644855e+12   \n",
       "102  -0.000065  2022-02-14 16:14:59.999000         4.0  2934.71  1.644855e+12   \n",
       "...        ...                         ...         ...      ...           ...   \n",
       "1340  0.000128  2022-02-15 12:52:59.999000        93.0  3113.20  1.644930e+12   \n",
       "1374 -0.000094  2022-02-15 13:26:59.999000        94.0  3100.00  1.644932e+12   \n",
       "1379  0.000001  2022-02-15 13:31:59.999000        95.0  3108.03  1.644932e+12   \n",
       "1387 -0.000096  2022-02-15 13:39:59.999000        96.0  3097.49  1.644932e+12   \n",
       "1429  0.000228  2022-02-15 14:21:59.999000        97.0  3137.26  1.644935e+12   \n",
       "\n",
       "      val_extrm  last_extrm  \n",
       "0     -0.001375     2920.57  \n",
       "91     0.000018     2942.57  \n",
       "93    -0.000036     2937.80  \n",
       "94     0.000009     2941.76  \n",
       "102   -0.000065     2934.71  \n",
       "...         ...         ...  \n",
       "1340   0.000128     3119.00  \n",
       "1374  -0.000094     3100.00  \n",
       "1379   0.000001     3108.03  \n",
       "1387  -0.000096     3097.49  \n",
       "1429   0.000228     3137.26  \n",
       "\n",
       "[98 rows x 7 columns]"
      ]
     },
     "execution_count": 38,
     "metadata": {},
     "output_type": "execute_result"
    }
   ],
   "source": [
    "df = result.loc[result.last_extrm > 0]\n",
    "df"
   ]
  },
  {
   "cell_type": "code",
   "execution_count": 39,
   "id": "8aa9472c",
   "metadata": {},
   "outputs": [
    {
     "name": "stderr",
     "output_type": "stream",
     "text": [
      "/home/luis/anaconda3/lib/python3.9/site-packages/pandas/core/indexing.py:1667: SettingWithCopyWarning: \n",
      "A value is trying to be set on a copy of a slice from a DataFrame.\n",
      "Try using .loc[row_indexer,col_indexer] = value instead\n",
      "\n",
      "See the caveats in the documentation: https://pandas.pydata.org/pandas-docs/stable/user_guide/indexing.html#returning-a-view-versus-a-copy\n",
      "  self.obj[key] = value\n",
      "/home/luis/anaconda3/lib/python3.9/site-packages/pandas/core/indexing.py:1773: SettingWithCopyWarning: \n",
      "A value is trying to be set on a copy of a slice from a DataFrame.\n",
      "Try using .loc[row_indexer,col_indexer] = value instead\n",
      "\n",
      "See the caveats in the documentation: https://pandas.pydata.org/pandas-docs/stable/user_guide/indexing.html#returning-a-view-versus-a-copy\n",
      "  self._setitem_single_column(ilocs[0], value, pi)\n"
     ]
    },
    {
     "data": {
      "text/html": [
       "<div>\n",
       "<style scoped>\n",
       "    .dataframe tbody tr th:only-of-type {\n",
       "        vertical-align: middle;\n",
       "    }\n",
       "\n",
       "    .dataframe tbody tr th {\n",
       "        vertical-align: top;\n",
       "    }\n",
       "\n",
       "    .dataframe thead th {\n",
       "        text-align: right;\n",
       "    }\n",
       "</style>\n",
       "<table border=\"1\" class=\"dataframe\">\n",
       "  <thead>\n",
       "    <tr style=\"text-align: right;\">\n",
       "      <th></th>\n",
       "      <th>valor</th>\n",
       "      <th>tiempo</th>\n",
       "      <th>cross_cero</th>\n",
       "      <th>last</th>\n",
       "      <th>time</th>\n",
       "      <th>val_extrm</th>\n",
       "      <th>last_extrm</th>\n",
       "      <th>percentChange</th>\n",
       "      <th>duracion/min</th>\n",
       "    </tr>\n",
       "  </thead>\n",
       "  <tbody>\n",
       "    <tr>\n",
       "      <th>0</th>\n",
       "      <td>-0.001375</td>\n",
       "      <td>2022-02-14 14:32:59.999000</td>\n",
       "      <td>0.0</td>\n",
       "      <td>2947.77</td>\n",
       "      <td>1.644849e+12</td>\n",
       "      <td>-0.001375</td>\n",
       "      <td>2920.57</td>\n",
       "      <td>NaN</td>\n",
       "      <td>NaN</td>\n",
       "    </tr>\n",
       "    <tr>\n",
       "      <th>91</th>\n",
       "      <td>0.000018</td>\n",
       "      <td>2022-02-14 16:03:59.999000</td>\n",
       "      <td>1.0</td>\n",
       "      <td>2942.54</td>\n",
       "      <td>1.644855e+12</td>\n",
       "      <td>0.000018</td>\n",
       "      <td>2942.57</td>\n",
       "      <td>0.007533</td>\n",
       "      <td>91.0</td>\n",
       "    </tr>\n",
       "    <tr>\n",
       "      <th>93</th>\n",
       "      <td>-0.000036</td>\n",
       "      <td>2022-02-14 16:05:59.999000</td>\n",
       "      <td>2.0</td>\n",
       "      <td>2937.80</td>\n",
       "      <td>1.644855e+12</td>\n",
       "      <td>-0.000036</td>\n",
       "      <td>2937.80</td>\n",
       "      <td>-0.001621</td>\n",
       "      <td>2.0</td>\n",
       "    </tr>\n",
       "    <tr>\n",
       "      <th>94</th>\n",
       "      <td>0.000009</td>\n",
       "      <td>2022-02-14 16:06:59.999000</td>\n",
       "      <td>3.0</td>\n",
       "      <td>2941.76</td>\n",
       "      <td>1.644855e+12</td>\n",
       "      <td>0.000009</td>\n",
       "      <td>2941.76</td>\n",
       "      <td>0.001348</td>\n",
       "      <td>1.0</td>\n",
       "    </tr>\n",
       "    <tr>\n",
       "      <th>102</th>\n",
       "      <td>-0.000065</td>\n",
       "      <td>2022-02-14 16:14:59.999000</td>\n",
       "      <td>4.0</td>\n",
       "      <td>2934.71</td>\n",
       "      <td>1.644855e+12</td>\n",
       "      <td>-0.000065</td>\n",
       "      <td>2934.71</td>\n",
       "      <td>-0.002397</td>\n",
       "      <td>8.0</td>\n",
       "    </tr>\n",
       "    <tr>\n",
       "      <th>...</th>\n",
       "      <td>...</td>\n",
       "      <td>...</td>\n",
       "      <td>...</td>\n",
       "      <td>...</td>\n",
       "      <td>...</td>\n",
       "      <td>...</td>\n",
       "      <td>...</td>\n",
       "      <td>...</td>\n",
       "      <td>...</td>\n",
       "    </tr>\n",
       "    <tr>\n",
       "      <th>1340</th>\n",
       "      <td>0.000128</td>\n",
       "      <td>2022-02-15 12:52:59.999000</td>\n",
       "      <td>93.0</td>\n",
       "      <td>3113.20</td>\n",
       "      <td>1.644930e+12</td>\n",
       "      <td>0.000128</td>\n",
       "      <td>3119.00</td>\n",
       "      <td>0.006454</td>\n",
       "      <td>12.0</td>\n",
       "    </tr>\n",
       "    <tr>\n",
       "      <th>1374</th>\n",
       "      <td>-0.000094</td>\n",
       "      <td>2022-02-15 13:26:59.999000</td>\n",
       "      <td>94.0</td>\n",
       "      <td>3100.00</td>\n",
       "      <td>1.644932e+12</td>\n",
       "      <td>-0.000094</td>\n",
       "      <td>3100.00</td>\n",
       "      <td>-0.006092</td>\n",
       "      <td>34.0</td>\n",
       "    </tr>\n",
       "    <tr>\n",
       "      <th>1379</th>\n",
       "      <td>0.000001</td>\n",
       "      <td>2022-02-15 13:31:59.999000</td>\n",
       "      <td>95.0</td>\n",
       "      <td>3108.03</td>\n",
       "      <td>1.644932e+12</td>\n",
       "      <td>0.000001</td>\n",
       "      <td>3108.03</td>\n",
       "      <td>0.002590</td>\n",
       "      <td>5.0</td>\n",
       "    </tr>\n",
       "    <tr>\n",
       "      <th>1387</th>\n",
       "      <td>-0.000096</td>\n",
       "      <td>2022-02-15 13:39:59.999000</td>\n",
       "      <td>96.0</td>\n",
       "      <td>3097.49</td>\n",
       "      <td>1.644932e+12</td>\n",
       "      <td>-0.000096</td>\n",
       "      <td>3097.49</td>\n",
       "      <td>-0.003391</td>\n",
       "      <td>8.0</td>\n",
       "    </tr>\n",
       "    <tr>\n",
       "      <th>1429</th>\n",
       "      <td>0.000228</td>\n",
       "      <td>2022-02-15 14:21:59.999000</td>\n",
       "      <td>97.0</td>\n",
       "      <td>3137.26</td>\n",
       "      <td>1.644935e+12</td>\n",
       "      <td>0.000228</td>\n",
       "      <td>3137.26</td>\n",
       "      <td>0.012839</td>\n",
       "      <td>42.0</td>\n",
       "    </tr>\n",
       "  </tbody>\n",
       "</table>\n",
       "<p>98 rows × 9 columns</p>\n",
       "</div>"
      ],
      "text/plain": [
       "         valor                      tiempo  cross_cero     last          time  \\\n",
       "0    -0.001375  2022-02-14 14:32:59.999000         0.0  2947.77  1.644849e+12   \n",
       "91    0.000018  2022-02-14 16:03:59.999000         1.0  2942.54  1.644855e+12   \n",
       "93   -0.000036  2022-02-14 16:05:59.999000         2.0  2937.80  1.644855e+12   \n",
       "94    0.000009  2022-02-14 16:06:59.999000         3.0  2941.76  1.644855e+12   \n",
       "102  -0.000065  2022-02-14 16:14:59.999000         4.0  2934.71  1.644855e+12   \n",
       "...        ...                         ...         ...      ...           ...   \n",
       "1340  0.000128  2022-02-15 12:52:59.999000        93.0  3113.20  1.644930e+12   \n",
       "1374 -0.000094  2022-02-15 13:26:59.999000        94.0  3100.00  1.644932e+12   \n",
       "1379  0.000001  2022-02-15 13:31:59.999000        95.0  3108.03  1.644932e+12   \n",
       "1387 -0.000096  2022-02-15 13:39:59.999000        96.0  3097.49  1.644932e+12   \n",
       "1429  0.000228  2022-02-15 14:21:59.999000        97.0  3137.26  1.644935e+12   \n",
       "\n",
       "      val_extrm  last_extrm  percentChange  duracion/min  \n",
       "0     -0.001375     2920.57            NaN           NaN  \n",
       "91     0.000018     2942.57       0.007533          91.0  \n",
       "93    -0.000036     2937.80      -0.001621           2.0  \n",
       "94     0.000009     2941.76       0.001348           1.0  \n",
       "102   -0.000065     2934.71      -0.002397           8.0  \n",
       "...         ...         ...            ...           ...  \n",
       "1340   0.000128     3119.00       0.006454          12.0  \n",
       "1374  -0.000094     3100.00      -0.006092          34.0  \n",
       "1379   0.000001     3108.03       0.002590           5.0  \n",
       "1387  -0.000096     3097.49      -0.003391           8.0  \n",
       "1429   0.000228     3137.26       0.012839          42.0  \n",
       "\n",
       "[98 rows x 9 columns]"
      ]
     },
     "execution_count": 39,
     "metadata": {},
     "output_type": "execute_result"
    }
   ],
   "source": [
    "df.loc[:, 'percentChange'] = df['last_extrm'].pct_change()\n",
    "df.loc[:, 'duracion/min'] = df['time'].diff()\n",
    "df.loc[:, 'duracion/min'] = df['duracion/min']//(1000*60)\n",
    "df"
   ]
  },
  {
   "cell_type": "code",
   "execution_count": 30,
   "id": "78d6dc56",
   "metadata": {},
   "outputs": [
    {
     "data": {
      "text/plain": [
       "[<matplotlib.lines.Line2D at 0x7fe5f647b370>]"
      ]
     },
     "execution_count": 30,
     "metadata": {},
     "output_type": "execute_result"
    },
    {
     "data": {
      "image/png": "[encoded data removed]",
      "text/plain": [
       "<Figure size 1080x360 with 1 Axes>"
      ]
     },
     "metadata": {
      "needs_background": "light"
     },
     "output_type": "display_data"
    }
   ],
   "source": [
    "from matplotlib import rcParams\n",
    "rcParams['figure.figsize'] = 15, 5\n",
    "import matplotlib.pyplot as plt\n",
    "\n",
    "\n",
    "x = result.loc[result.last_extrm > 0]['time']\n",
    "y = result.loc[result.last_extrm > 0]['val_extrm']\n",
    "z = [0] * len(y)\n",
    "z1 = [.0001] * len(y)\n",
    "z2 = [-.0001] * len(y)\n",
    "\n",
    "fig = plt.figure()\n",
    "ax = fig.add_subplot(111)\n",
    "plt.plot(x, y)\n",
    "plt.plot(x, z)\n",
    "plt.plot(x, z1)\n",
    "plt.plot(x, z2)"
   ]
  },
  {
   "cell_type": "code",
   "execution_count": 6,
   "id": "14483ad7",
   "metadata": {},
   "outputs": [
    {
     "data": {
      "text/plain": [
       "[<matplotlib.lines.Line2D at 0x7fe5f5b1f5b0>]"
      ]
     },
     "execution_count": 6,
     "metadata": {},
     "output_type": "execute_result"
    },
    {
     "data": {
      "image/png": "[encoded data removed]",
      "text/plain": [
       "<Figure size 1080x360 with 1 Axes>"
      ]
     },
     "metadata": {
      "needs_background": "light"
     },
     "output_type": "display_data"
    }
   ],
   "source": [
    "x = result.loc[result.last_extrm > 0].loc[abs(result.val_extrm) >= .0001] ['time']\n",
    "y = result.loc[result.last_extrm > 0].loc[abs(result.val_extrm) >= .0001] ['val_extrm']\n",
    "\n",
    "z = [0] * len(y)\n",
    "z1 = [.0001] * len(y)\n",
    "z2 = [-.0001] * len(y)\n",
    "\n",
    "fig = plt.figure()\n",
    "ax = fig.add_subplot(111)\n",
    "plt.plot(x, y)\n",
    "plt.plot(x, z)\n",
    "plt.plot(x, z1)\n",
    "plt.plot(x, z2)"
   ]
  },
  {
   "cell_type": "code",
   "execution_count": 17,
   "id": "9cbde261",
   "metadata": {},
   "outputs": [
    {
     "data": {
      "text/plain": [
       "6"
      ]
     },
     "execution_count": 17,
     "metadata": {},
     "output_type": "execute_result"
    }
   ],
   "source": [
    "a = [1,2,5,6,1,4]\n",
    "max(a)"
   ]
  },
  {
   "cell_type": "code",
   "execution_count": 7,
   "id": "1e26c961",
   "metadata": {},
   "outputs": [
    {
     "data": {
      "text/plain": [
       "[<matplotlib.lines.Line2D at 0x7fe5f5a8aa90>]"
      ]
     },
     "execution_count": 7,
     "metadata": {},
     "output_type": "execute_result"
    },
    {
     "data": {
      "image/png": "[encoded data removed]",
      "text/plain": [
       "<Figure size 1080x360 with 1 Axes>"
      ]
     },
     "metadata": {
      "needs_background": "light"
     },
     "output_type": "display_data"
    }
   ],
   "source": [
    "x = result.loc[result.last_extrm > 0]['time']\n",
    "y = result.loc[result.last_extrm > 0]['last_extrm']\n",
    "\n",
    "\n",
    "fig = plt.figure()\n",
    "ax = fig.add_subplot(111)\n",
    "plt.plot(x, y)"
   ]
  },
  {
   "cell_type": "markdown",
   "id": "c034b716",
   "metadata": {},
   "source": [
    "analisis de duracion de tendencia lineal de resultados\n",
    "\n",
    "m = ( y2 - y1 ) / ( x2 - x1 ) pendiente\n",
    "\n",
    "b = y2 - (m * x2) termino independiente\n"
   ]
  },
  {
   "cell_type": "code",
   "execution_count": 26,
   "id": "ffc1c83a",
   "metadata": {},
   "outputs": [
    {
     "data": {
      "text/html": [
       "<div>\n",
       "<style scoped>\n",
       "    .dataframe tbody tr th:only-of-type {\n",
       "        vertical-align: middle;\n",
       "    }\n",
       "\n",
       "    .dataframe tbody tr th {\n",
       "        vertical-align: top;\n",
       "    }\n",
       "\n",
       "    .dataframe thead th {\n",
       "        text-align: right;\n",
       "    }\n",
       "</style>\n",
       "<table border=\"1\" class=\"dataframe\">\n",
       "  <thead>\n",
       "    <tr style=\"text-align: right;\">\n",
       "      <th></th>\n",
       "      <th>time</th>\n",
       "      <th>last_extrm</th>\n",
       "      <th>durac</th>\n",
       "      <th>pendte</th>\n",
       "    </tr>\n",
       "  </thead>\n",
       "  <tbody>\n",
       "    <tr>\n",
       "      <th>22</th>\n",
       "      <td>1644505499999</td>\n",
       "      <td>45562.25</td>\n",
       "      <td>960</td>\n",
       "      <td>NaN</td>\n",
       "    </tr>\n",
       "    <tr>\n",
       "      <th>75</th>\n",
       "      <td>1644508679999</td>\n",
       "      <td>44837.43</td>\n",
       "      <td>3180</td>\n",
       "      <td>-0.000228</td>\n",
       "    </tr>\n",
       "    <tr>\n",
       "      <th>77</th>\n",
       "      <td>1644508799999</td>\n",
       "      <td>44947.10</td>\n",
       "      <td>120</td>\n",
       "      <td>0.000914</td>\n",
       "    </tr>\n",
       "    <tr>\n",
       "      <th>78</th>\n",
       "      <td>1644508859999</td>\n",
       "      <td>44905.13</td>\n",
       "      <td>60</td>\n",
       "      <td>-0.000700</td>\n",
       "    </tr>\n",
       "    <tr>\n",
       "      <th>81</th>\n",
       "      <td>1644509039999</td>\n",
       "      <td>45119.88</td>\n",
       "      <td>180</td>\n",
       "      <td>0.001193</td>\n",
       "    </tr>\n",
       "    <tr>\n",
       "      <th>...</th>\n",
       "      <td>...</td>\n",
       "      <td>...</td>\n",
       "      <td>...</td>\n",
       "      <td>...</td>\n",
       "    </tr>\n",
       "    <tr>\n",
       "      <th>1332</th>\n",
       "      <td>1644584099999</td>\n",
       "      <td>43634.99</td>\n",
       "      <td>420</td>\n",
       "      <td>0.000447</td>\n",
       "    </tr>\n",
       "    <tr>\n",
       "      <th>1340</th>\n",
       "      <td>1644584579999</td>\n",
       "      <td>43516.42</td>\n",
       "      <td>480</td>\n",
       "      <td>-0.000247</td>\n",
       "    </tr>\n",
       "    <tr>\n",
       "      <th>1360</th>\n",
       "      <td>1644585779999</td>\n",
       "      <td>43814.84</td>\n",
       "      <td>1200</td>\n",
       "      <td>0.000249</td>\n",
       "    </tr>\n",
       "    <tr>\n",
       "      <th>1413</th>\n",
       "      <td>1644588959999</td>\n",
       "      <td>43517.29</td>\n",
       "      <td>3180</td>\n",
       "      <td>-0.000094</td>\n",
       "    </tr>\n",
       "    <tr>\n",
       "      <th>1430</th>\n",
       "      <td>1644589979999</td>\n",
       "      <td>43725.46</td>\n",
       "      <td>1020</td>\n",
       "      <td>0.000204</td>\n",
       "    </tr>\n",
       "  </tbody>\n",
       "</table>\n",
       "<p>111 rows × 4 columns</p>\n",
       "</div>"
      ],
      "text/plain": [
       "               time  last_extrm  durac    pendte\n",
       "22    1644505499999    45562.25    960       NaN\n",
       "75    1644508679999    44837.43   3180 -0.000228\n",
       "77    1644508799999    44947.10    120  0.000914\n",
       "78    1644508859999    44905.13     60 -0.000700\n",
       "81    1644509039999    45119.88    180  0.001193\n",
       "...             ...         ...    ...       ...\n",
       "1332  1644584099999    43634.99    420  0.000447\n",
       "1340  1644584579999    43516.42    480 -0.000247\n",
       "1360  1644585779999    43814.84   1200  0.000249\n",
       "1413  1644588959999    43517.29   3180 -0.000094\n",
       "1430  1644589979999    43725.46   1020  0.000204\n",
       "\n",
       "[111 rows x 4 columns]"
      ]
     },
     "execution_count": 26,
     "metadata": {},
     "output_type": "execute_result"
    }
   ],
   "source": [
    "durac_lineal = result.loc[result.last_extrm > 0][['time', 'last_extrm']]\n",
    "\n",
    "durac_lineal.time = durac_lineal.time.astype(int)\n",
    "\n",
    "durac_lineal['durac'] = durac_lineal.time.diff()//1000\n",
    "\n",
    "durac_lineal = durac_lineal.dropna()\n",
    "\n",
    "durac_lineal.durac = durac_lineal.durac.astype(int)\n",
    "\n",
    "durac_lineal['pendte'] = durac_lineal.last_extrm.diff() / durac_lineal.time.diff()\n",
    "\n",
    "durac_lineal"
   ]
  },
  {
   "cell_type": "code",
   "execution_count": 34,
   "id": "56778640",
   "metadata": {},
   "outputs": [
    {
     "data": {
      "text/plain": [
       "<matplotlib.collections.PathCollection at 0x7f8a21bdd6a0>"
      ]
     },
     "execution_count": 34,
     "metadata": {},
     "output_type": "execute_result"
    },
    {
     "data": {
      "image/png": "[encoded data removed]",
      "text/plain": [
       "<Figure size 1080x360 with 1 Axes>"
      ]
     },
     "metadata": {
      "needs_background": "light"
     },
     "output_type": "display_data"
    }
   ],
   "source": [
    "x = durac_lineal.pendte[1:]\n",
    "y = durac_lineal.durac[1:]\n",
    "\n",
    "fig = plt.figure()\n",
    "ax = fig.add_subplot(111)\n",
    "\n",
    "plt.xlabel('pendiente')\n",
    "plt.ylabel('duracion/seg')\n",
    "\n",
    "plt.scatter(x, y, s=5, color='b')"
   ]
  },
  {
   "cell_type": "code",
   "execution_count": 29,
   "id": "76e169ae",
   "metadata": {},
   "outputs": [],
   "source": [
    "df_durac = durac_lineal.dropna().sort_values(by=['pendte'])\n"
   ]
  },
  {
   "cell_type": "code",
   "execution_count": 30,
   "id": "4e12a66d",
   "metadata": {},
   "outputs": [
    {
     "data": {
      "text/html": [
       "<div>\n",
       "<style scoped>\n",
       "    .dataframe tbody tr th:only-of-type {\n",
       "        vertical-align: middle;\n",
       "    }\n",
       "\n",
       "    .dataframe tbody tr th {\n",
       "        vertical-align: top;\n",
       "    }\n",
       "\n",
       "    .dataframe thead th {\n",
       "        text-align: right;\n",
       "    }\n",
       "</style>\n",
       "<table border=\"1\" class=\"dataframe\">\n",
       "  <thead>\n",
       "    <tr style=\"text-align: right;\">\n",
       "      <th></th>\n",
       "      <th>time</th>\n",
       "      <th>last_extrm</th>\n",
       "      <th>durac</th>\n",
       "      <th>pendte</th>\n",
       "    </tr>\n",
       "  </thead>\n",
       "  <tbody>\n",
       "    <tr>\n",
       "      <th>482</th>\n",
       "      <td>1644533099999</td>\n",
       "      <td>43900.00</td>\n",
       "      <td>60</td>\n",
       "      <td>-0.001564</td>\n",
       "    </tr>\n",
       "    <tr>\n",
       "      <th>499</th>\n",
       "      <td>1644534119999</td>\n",
       "      <td>43901.91</td>\n",
       "      <td>60</td>\n",
       "      <td>-0.000968</td>\n",
       "    </tr>\n",
       "    <tr>\n",
       "      <th>727</th>\n",
       "      <td>1644547799999</td>\n",
       "      <td>42983.11</td>\n",
       "      <td>120</td>\n",
       "      <td>-0.000903</td>\n",
       "    </tr>\n",
       "    <tr>\n",
       "      <th>188</th>\n",
       "      <td>1644515459999</td>\n",
       "      <td>45075.49</td>\n",
       "      <td>600</td>\n",
       "      <td>-0.000864</td>\n",
       "    </tr>\n",
       "    <tr>\n",
       "      <th>78</th>\n",
       "      <td>1644508859999</td>\n",
       "      <td>44905.13</td>\n",
       "      <td>60</td>\n",
       "      <td>-0.000700</td>\n",
       "    </tr>\n",
       "    <tr>\n",
       "      <th>...</th>\n",
       "      <td>...</td>\n",
       "      <td>...</td>\n",
       "      <td>...</td>\n",
       "      <td>...</td>\n",
       "    </tr>\n",
       "    <tr>\n",
       "      <th>199</th>\n",
       "      <td>1644516119999</td>\n",
       "      <td>45374.02</td>\n",
       "      <td>60</td>\n",
       "      <td>0.000952</td>\n",
       "    </tr>\n",
       "    <tr>\n",
       "      <th>81</th>\n",
       "      <td>1644509039999</td>\n",
       "      <td>45119.88</td>\n",
       "      <td>180</td>\n",
       "      <td>0.001193</td>\n",
       "    </tr>\n",
       "    <tr>\n",
       "      <th>1136</th>\n",
       "      <td>1644572339999</td>\n",
       "      <td>43586.89</td>\n",
       "      <td>240</td>\n",
       "      <td>0.001239</td>\n",
       "    </tr>\n",
       "    <tr>\n",
       "      <th>244</th>\n",
       "      <td>1644518819999</td>\n",
       "      <td>45142.19</td>\n",
       "      <td>60</td>\n",
       "      <td>0.001256</td>\n",
       "    </tr>\n",
       "    <tr>\n",
       "      <th>483</th>\n",
       "      <td>1644533159999</td>\n",
       "      <td>43989.96</td>\n",
       "      <td>60</td>\n",
       "      <td>0.001499</td>\n",
       "    </tr>\n",
       "  </tbody>\n",
       "</table>\n",
       "<p>110 rows × 4 columns</p>\n",
       "</div>"
      ],
      "text/plain": [
       "               time  last_extrm  durac    pendte\n",
       "482   1644533099999    43900.00     60 -0.001564\n",
       "499   1644534119999    43901.91     60 -0.000968\n",
       "727   1644547799999    42983.11    120 -0.000903\n",
       "188   1644515459999    45075.49    600 -0.000864\n",
       "78    1644508859999    44905.13     60 -0.000700\n",
       "...             ...         ...    ...       ...\n",
       "199   1644516119999    45374.02     60  0.000952\n",
       "81    1644509039999    45119.88    180  0.001193\n",
       "1136  1644572339999    43586.89    240  0.001239\n",
       "244   1644518819999    45142.19     60  0.001256\n",
       "483   1644533159999    43989.96     60  0.001499\n",
       "\n",
       "[110 rows x 4 columns]"
      ]
     },
     "execution_count": 30,
     "metadata": {},
     "output_type": "execute_result"
    }
   ],
   "source": [
    "df_durac"
   ]
  },
  {
   "cell_type": "code",
   "execution_count": 31,
   "id": "9ea730f9",
   "metadata": {},
   "outputs": [
    {
     "data": {
      "text/plain": [
       "[<matplotlib.lines.Line2D at 0x7f8a21d19eb0>]"
      ]
     },
     "execution_count": 31,
     "metadata": {},
     "output_type": "execute_result"
    },
    {
     "data": {
      "image/png": "[encoded data removed]",
      "text/plain": [
       "<Figure size 1080x360 with 1 Axes>"
      ]
     },
     "metadata": {
      "needs_background": "light"
     },
     "output_type": "display_data"
    }
   ],
   "source": [
    "x = df_durac['pendte']\n",
    "y = df_durac['durac']\n",
    "\n",
    "\n",
    "fig = plt.figure()\n",
    "ax = fig.add_subplot(111)\n",
    "plt.plot(x, y)"
   ]
  }
 ],
 "metadata": {
  "kernelspec": {
   "display_name": "Python 3 (ipykernel)",
   "language": "python",
   "name": "python3"
  },
  "language_info": {
   "codemirror_mode": {
    "name": "ipython",
    "version": 3
   },
   "file_extension": ".py",
   "mimetype": "text/x-python",
   "name": "python",
   "nbconvert_exporter": "python",
   "pygments_lexer": "ipython3",
   "version": "3.9.7"
  }
 },
 "nbformat": 4,
 "nbformat_minor": 5
}
