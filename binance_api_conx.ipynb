{
 "cells": [
  {
   "cell_type": "markdown",
   "id": "799016a6",
   "metadata": {},
   "source": [
    "### Cuaderno de lectura de datos basado en la api de CoinGecko"
   ]
  },
  {
   "cell_type": "code",
   "execution_count": 10,
   "id": "2a6b9686",
   "metadata": {},
   "outputs": [],
   "source": [
    "from binance.client import Client\n",
    "from binance.streams import BinanceSocketManager\n",
    "\n",
    "with open(\"BinanceXXX.txt\", 'r') as cv:\n",
    "    lineas = cv.readlines()\n",
    "    lineas = [linea.replace('\\n', '') for linea in lineas]\n",
    "\n",
    "    cv = [lineas[0], lineas[2]]\n",
    "    vl = [lineas[1], lineas[3]]\n",
    "\n",
    "    dc_kys = dict(zip(cv, vl))\n",
    "    \n",
    "    client = Client(dc_kys['API Key'], dc_kys['Secret Key'])\n"
   ]
  },
  {
   "cell_type": "code",
   "execution_count": 25,
   "id": "d008396d",
   "metadata": {},
   "outputs": [
    {
     "ename": "TypeError",
     "evalue": "get_ticker() takes 1 positional argument but 2 were given",
     "output_type": "error",
     "traceback": [
      "\u001b[1;31m---------------------------------------------------------------------------\u001b[0m",
      "\u001b[1;31mTypeError\u001b[0m                                 Traceback (most recent call last)",
      "\u001b[1;32m<ipython-input-25-813a34c35f60>\u001b[0m in \u001b[0;36m<module>\u001b[1;34m\u001b[0m\n\u001b[0;32m      7\u001b[0m \u001b[1;33m\u001b[0m\u001b[0m\n\u001b[0;32m      8\u001b[0m \u001b[1;33m\u001b[0m\u001b[0m\n\u001b[1;32m----> 9\u001b[1;33m \u001b[0mclient\u001b[0m\u001b[1;33m.\u001b[0m\u001b[0mget_ticker\u001b[0m\u001b[1;33m(\u001b[0m\u001b[1;34m'ETH'\u001b[0m\u001b[1;33m)\u001b[0m\u001b[1;33m\u001b[0m\u001b[1;33m\u001b[0m\u001b[0m\n\u001b[0m",
      "\u001b[1;31mTypeError\u001b[0m: get_ticker() takes 1 positional argument but 2 were given"
     ]
    }
   ],
   "source": [
    "# def process_message(msg):\n",
    "#     print(\"Bid - Ask BTCUSDT price: {} - {}\".format(msg['b'], msg['a']))\n",
    "\n",
    "# bm = BinanceSocketManager(client)\n",
    "# bm.start_symbol_ticker_socket('BTCUSDT', process_message)\n",
    "# bm.start()\n",
    "\n",
    "\n",
    "client.get_ticker()"
   ]
  },
  {
   "cell_type": "code",
   "execution_count": 26,
   "id": "d4b0f80c",
   "metadata": {},
   "outputs": [
    {
     "data": {
      "text/plain": [
       "' queda pendiente para investigar'"
      ]
     },
     "execution_count": 26,
     "metadata": {},
     "output_type": "execute_result"
    }
   ],
   "source": [
    "\" queda pendiente para investigar\""
   ]
  }
 ],
 "metadata": {
  "kernelspec": {
   "display_name": "Python 3 (ipykernel)",
   "language": "python",
   "name": "python3"
  },
  "language_info": {
   "codemirror_mode": {
    "name": "ipython",
    "version": 3
   },
   "file_extension": ".py",
   "mimetype": "text/x-python",
   "name": "python",
   "nbconvert_exporter": "python",
   "pygments_lexer": "ipython3",
   "version": "3.9.7"
  }
 },
 "nbformat": 4,
 "nbformat_minor": 5
}
